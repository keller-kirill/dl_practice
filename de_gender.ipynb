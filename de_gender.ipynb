{
  "nbformat": 4,
  "nbformat_minor": 0,
  "metadata": {
    "colab": {
      "name": "de_gender.ipynb",
      "provenance": [],
      "collapsed_sections": [],
      "authorship_tag": "ABX9TyNWhh5T/QWOx9BnG6NhShpj",
      "include_colab_link": true
    },
    "kernelspec": {
      "name": "python3",
      "display_name": "Python 3"
    },
    "language_info": {
      "name": "python"
    },
    "accelerator": "GPU"
  },
  "cells": [
    {
      "cell_type": "markdown",
      "metadata": {
        "id": "view-in-github",
        "colab_type": "text"
      },
      "source": [
        "<a href=\"https://colab.research.google.com/github/keller-kirill/dl_practice/blob/main/de_gender.ipynb\" target=\"_parent\"><img src=\"https://colab.research.google.com/assets/colab-badge.svg\" alt=\"Open In Colab\"/></a>"
      ]
    },
    {
      "cell_type": "markdown",
      "metadata": {
        "id": "MGyZjE7Tg0Mn"
      },
      "source": [
        "# Predicting gender of german nouns using LSTM many-to-one mode\n",
        "\n",
        "## Problem\n",
        "Every german word could be of one of three genders – masculine, feminine and neutral. Gender of the noun in german determines the article which one should use. Moreover, articles are changing depending on the case (Nominative, Akkusative, Dativ and Genitiv). \n",
        "\n",
        "Native german speaking people know noun's gender intuitively. German learner has to learn them all, but there exist several patterns on which one can rely – for example by the words ending (-ung or -e mean always feminine, -er is often masculine). \n",
        "\n",
        "LSTMs are special type of RNNs which show themselve quite well in many NLP problems. This work is aimed on checking whether it's possible to train the LSTM network simply on letter sequences to predict the word's gender. \n",
        "\n",
        "## Tasks\n",
        "\n",
        "* First, the data need to be found. Ideally, we need large dictionary of german nouns with articles or class.\n",
        "* Then, we'll try to perform simple EDA to learn some statistics about german words.\n",
        "* We will set the problem as a multi-label classification. \n",
        "* We will build LSTM many-to-one model and train it on our dataset.\n",
        "* Lastly, the obtained results will be compared with alternative approaches. \n",
        "\n"
      ]
    },
    {
      "cell_type": "markdown",
      "metadata": {
        "id": "3gqC4GJ1n9ED"
      },
      "source": [
        "# Data\n",
        "In this project we used dictionary of german nouns from @gambolputty https://github.com/gambolputty/german_nouns/tree/master/german_nouns"
      ]
    },
    {
      "cell_type": "code",
      "metadata": {
        "id": "srqNoRzBn84s"
      },
      "source": [
        "import pandas as pd\n",
        "import numpy as np"
      ],
      "execution_count": 1,
      "outputs": []
    },
    {
      "cell_type": "code",
      "metadata": {
        "id": "ZPLttEKVgz-X"
      },
      "source": [
        "DATASET = 'https://raw.githubusercontent.com/keller-kirill/german_nouns/master/german_nouns/nouns.csv'"
      ],
      "execution_count": 2,
      "outputs": []
    },
    {
      "cell_type": "code",
      "metadata": {
        "id": "LVt7FPsJgbeD"
      },
      "source": [
        "df = pd.read_csv(DATASET, dtype='object')"
      ],
      "execution_count": 3,
      "outputs": []
    },
    {
      "cell_type": "code",
      "metadata": {
        "colab": {
          "base_uri": "https://localhost:8080/",
          "height": 435
        },
        "id": "P1k15lACoa3S",
        "outputId": "c7f0c16b-675d-404b-d861-3e16a2974bbd"
      },
      "source": [
        "df.sample(10)"
      ],
      "execution_count": 4,
      "outputs": [
        {
          "output_type": "execute_result",
          "data": {
            "text/html": [
              "<div>\n",
              "<style scoped>\n",
              "    .dataframe tbody tr th:only-of-type {\n",
              "        vertical-align: middle;\n",
              "    }\n",
              "\n",
              "    .dataframe tbody tr th {\n",
              "        vertical-align: top;\n",
              "    }\n",
              "\n",
              "    .dataframe thead th {\n",
              "        text-align: right;\n",
              "    }\n",
              "</style>\n",
              "<table border=\"1\" class=\"dataframe\">\n",
              "  <thead>\n",
              "    <tr style=\"text-align: right;\">\n",
              "      <th></th>\n",
              "      <th>lemma</th>\n",
              "      <th>pos</th>\n",
              "      <th>genus</th>\n",
              "      <th>genus 1</th>\n",
              "      <th>genus 2</th>\n",
              "      <th>genus 3</th>\n",
              "      <th>genus 4</th>\n",
              "      <th>nominativ singular</th>\n",
              "      <th>nominativ singular*</th>\n",
              "      <th>nominativ singular 1</th>\n",
              "      <th>nominativ singular 2</th>\n",
              "      <th>nominativ singular 3</th>\n",
              "      <th>nominativ singular 4</th>\n",
              "      <th>nominativ singular stark</th>\n",
              "      <th>nominativ singular schwach</th>\n",
              "      <th>nominativ singular gemischt</th>\n",
              "      <th>nominativ plural</th>\n",
              "      <th>nominativ plural*</th>\n",
              "      <th>nominativ plural 1</th>\n",
              "      <th>nominativ plural 2</th>\n",
              "      <th>nominativ plural 3</th>\n",
              "      <th>nominativ plural 4</th>\n",
              "      <th>nominativ plural stark</th>\n",
              "      <th>nominativ plural schwach</th>\n",
              "      <th>nominativ plural gemischt</th>\n",
              "      <th>genitiv singular</th>\n",
              "      <th>genitiv singular*</th>\n",
              "      <th>genitiv singular 1</th>\n",
              "      <th>genitiv singular 2</th>\n",
              "      <th>genitiv singular 3</th>\n",
              "      <th>genitiv singular 4</th>\n",
              "      <th>genitiv singular stark</th>\n",
              "      <th>genitiv singular schwach</th>\n",
              "      <th>genitiv singular gemischt</th>\n",
              "      <th>genitiv plural</th>\n",
              "      <th>genitiv plural*</th>\n",
              "      <th>genitiv plural 1</th>\n",
              "      <th>genitiv plural 2</th>\n",
              "      <th>genitiv plural 3</th>\n",
              "      <th>genitiv plural 4</th>\n",
              "      <th>genitiv plural stark</th>\n",
              "      <th>genitiv plural schwach</th>\n",
              "      <th>genitiv plural gemischt</th>\n",
              "      <th>dativ singular</th>\n",
              "      <th>dativ singular*</th>\n",
              "      <th>dativ singular 1</th>\n",
              "      <th>dativ singular 2</th>\n",
              "      <th>dativ singular 3</th>\n",
              "      <th>dativ singular 4</th>\n",
              "      <th>dativ singular stark</th>\n",
              "      <th>dativ singular schwach</th>\n",
              "      <th>dativ singular gemischt</th>\n",
              "      <th>dativ plural</th>\n",
              "      <th>dativ plural*</th>\n",
              "      <th>dativ plural 1</th>\n",
              "      <th>dativ plural 2</th>\n",
              "      <th>dativ plural 3</th>\n",
              "      <th>dativ plural 4</th>\n",
              "      <th>dativ plural stark</th>\n",
              "      <th>dativ plural schwach</th>\n",
              "      <th>dativ plural gemischt</th>\n",
              "      <th>akkusativ singular</th>\n",
              "      <th>akkusativ singular*</th>\n",
              "      <th>akkusativ singular 1</th>\n",
              "      <th>akkusativ singular 2</th>\n",
              "      <th>akkusativ singular 3</th>\n",
              "      <th>akkusativ singular 4</th>\n",
              "      <th>akkusativ singular stark</th>\n",
              "      <th>akkusativ singular schwach</th>\n",
              "      <th>akkusativ singular gemischt</th>\n",
              "      <th>akkusativ plural</th>\n",
              "      <th>akkusativ plural*</th>\n",
              "      <th>akkusativ plural 1</th>\n",
              "      <th>akkusativ plural 2</th>\n",
              "      <th>akkusativ plural 3</th>\n",
              "      <th>akkusativ plural 4</th>\n",
              "      <th>akkusativ plural stark</th>\n",
              "      <th>akkusativ plural schwach</th>\n",
              "      <th>akkusativ plural gemischt</th>\n",
              "    </tr>\n",
              "  </thead>\n",
              "  <tbody>\n",
              "    <tr>\n",
              "      <th>14434</th>\n",
              "      <td>Christkindl</td>\n",
              "      <td>Substantiv,Toponym</td>\n",
              "      <td>NaN</td>\n",
              "      <td>NaN</td>\n",
              "      <td>NaN</td>\n",
              "      <td>NaN</td>\n",
              "      <td>NaN</td>\n",
              "      <td>NaN</td>\n",
              "      <td>NaN</td>\n",
              "      <td>NaN</td>\n",
              "      <td>NaN</td>\n",
              "      <td>NaN</td>\n",
              "      <td>NaN</td>\n",
              "      <td>NaN</td>\n",
              "      <td>NaN</td>\n",
              "      <td>NaN</td>\n",
              "      <td>NaN</td>\n",
              "      <td>NaN</td>\n",
              "      <td>NaN</td>\n",
              "      <td>NaN</td>\n",
              "      <td>NaN</td>\n",
              "      <td>NaN</td>\n",
              "      <td>NaN</td>\n",
              "      <td>NaN</td>\n",
              "      <td>NaN</td>\n",
              "      <td>NaN</td>\n",
              "      <td>NaN</td>\n",
              "      <td>NaN</td>\n",
              "      <td>NaN</td>\n",
              "      <td>NaN</td>\n",
              "      <td>NaN</td>\n",
              "      <td>NaN</td>\n",
              "      <td>NaN</td>\n",
              "      <td>NaN</td>\n",
              "      <td>NaN</td>\n",
              "      <td>NaN</td>\n",
              "      <td>NaN</td>\n",
              "      <td>NaN</td>\n",
              "      <td>NaN</td>\n",
              "      <td>NaN</td>\n",
              "      <td>NaN</td>\n",
              "      <td>NaN</td>\n",
              "      <td>NaN</td>\n",
              "      <td>NaN</td>\n",
              "      <td>NaN</td>\n",
              "      <td>NaN</td>\n",
              "      <td>NaN</td>\n",
              "      <td>NaN</td>\n",
              "      <td>NaN</td>\n",
              "      <td>NaN</td>\n",
              "      <td>NaN</td>\n",
              "      <td>NaN</td>\n",
              "      <td>NaN</td>\n",
              "      <td>NaN</td>\n",
              "      <td>NaN</td>\n",
              "      <td>NaN</td>\n",
              "      <td>NaN</td>\n",
              "      <td>NaN</td>\n",
              "      <td>NaN</td>\n",
              "      <td>NaN</td>\n",
              "      <td>NaN</td>\n",
              "      <td>NaN</td>\n",
              "      <td>NaN</td>\n",
              "      <td>NaN</td>\n",
              "      <td>NaN</td>\n",
              "      <td>NaN</td>\n",
              "      <td>NaN</td>\n",
              "      <td>NaN</td>\n",
              "      <td>NaN</td>\n",
              "      <td>NaN</td>\n",
              "      <td>NaN</td>\n",
              "      <td>NaN</td>\n",
              "      <td>NaN</td>\n",
              "      <td>NaN</td>\n",
              "      <td>NaN</td>\n",
              "      <td>NaN</td>\n",
              "      <td>NaN</td>\n",
              "      <td>NaN</td>\n",
              "      <td>NaN</td>\n",
              "    </tr>\n",
              "    <tr>\n",
              "      <th>44182</th>\n",
              "      <td>Laab im Walde</td>\n",
              "      <td>Substantiv,Toponym</td>\n",
              "      <td>NaN</td>\n",
              "      <td>NaN</td>\n",
              "      <td>NaN</td>\n",
              "      <td>NaN</td>\n",
              "      <td>NaN</td>\n",
              "      <td>NaN</td>\n",
              "      <td>NaN</td>\n",
              "      <td>NaN</td>\n",
              "      <td>NaN</td>\n",
              "      <td>NaN</td>\n",
              "      <td>NaN</td>\n",
              "      <td>NaN</td>\n",
              "      <td>NaN</td>\n",
              "      <td>NaN</td>\n",
              "      <td>NaN</td>\n",
              "      <td>NaN</td>\n",
              "      <td>NaN</td>\n",
              "      <td>NaN</td>\n",
              "      <td>NaN</td>\n",
              "      <td>NaN</td>\n",
              "      <td>NaN</td>\n",
              "      <td>NaN</td>\n",
              "      <td>NaN</td>\n",
              "      <td>Laabs im Walde</td>\n",
              "      <td>NaN</td>\n",
              "      <td>NaN</td>\n",
              "      <td>NaN</td>\n",
              "      <td>NaN</td>\n",
              "      <td>NaN</td>\n",
              "      <td>NaN</td>\n",
              "      <td>NaN</td>\n",
              "      <td>NaN</td>\n",
              "      <td>NaN</td>\n",
              "      <td>NaN</td>\n",
              "      <td>NaN</td>\n",
              "      <td>NaN</td>\n",
              "      <td>NaN</td>\n",
              "      <td>NaN</td>\n",
              "      <td>NaN</td>\n",
              "      <td>NaN</td>\n",
              "      <td>NaN</td>\n",
              "      <td>NaN</td>\n",
              "      <td>NaN</td>\n",
              "      <td>NaN</td>\n",
              "      <td>NaN</td>\n",
              "      <td>NaN</td>\n",
              "      <td>NaN</td>\n",
              "      <td>NaN</td>\n",
              "      <td>NaN</td>\n",
              "      <td>NaN</td>\n",
              "      <td>NaN</td>\n",
              "      <td>NaN</td>\n",
              "      <td>NaN</td>\n",
              "      <td>NaN</td>\n",
              "      <td>NaN</td>\n",
              "      <td>NaN</td>\n",
              "      <td>NaN</td>\n",
              "      <td>NaN</td>\n",
              "      <td>NaN</td>\n",
              "      <td>NaN</td>\n",
              "      <td>NaN</td>\n",
              "      <td>NaN</td>\n",
              "      <td>NaN</td>\n",
              "      <td>NaN</td>\n",
              "      <td>NaN</td>\n",
              "      <td>NaN</td>\n",
              "      <td>NaN</td>\n",
              "      <td>NaN</td>\n",
              "      <td>NaN</td>\n",
              "      <td>NaN</td>\n",
              "      <td>NaN</td>\n",
              "      <td>NaN</td>\n",
              "      <td>NaN</td>\n",
              "      <td>NaN</td>\n",
              "      <td>NaN</td>\n",
              "      <td>NaN</td>\n",
              "      <td>NaN</td>\n",
              "    </tr>\n",
              "    <tr>\n",
              "      <th>15611</th>\n",
              "      <td>Deadlock</td>\n",
              "      <td>Substantiv</td>\n",
              "      <td>m</td>\n",
              "      <td>NaN</td>\n",
              "      <td>NaN</td>\n",
              "      <td>NaN</td>\n",
              "      <td>NaN</td>\n",
              "      <td>Deadlock</td>\n",
              "      <td>NaN</td>\n",
              "      <td>NaN</td>\n",
              "      <td>NaN</td>\n",
              "      <td>NaN</td>\n",
              "      <td>NaN</td>\n",
              "      <td>NaN</td>\n",
              "      <td>NaN</td>\n",
              "      <td>NaN</td>\n",
              "      <td>Deadlocks</td>\n",
              "      <td>NaN</td>\n",
              "      <td>NaN</td>\n",
              "      <td>NaN</td>\n",
              "      <td>NaN</td>\n",
              "      <td>NaN</td>\n",
              "      <td>NaN</td>\n",
              "      <td>NaN</td>\n",
              "      <td>NaN</td>\n",
              "      <td>Deadlocks</td>\n",
              "      <td>NaN</td>\n",
              "      <td>NaN</td>\n",
              "      <td>NaN</td>\n",
              "      <td>NaN</td>\n",
              "      <td>NaN</td>\n",
              "      <td>NaN</td>\n",
              "      <td>NaN</td>\n",
              "      <td>NaN</td>\n",
              "      <td>Deadlocks</td>\n",
              "      <td>NaN</td>\n",
              "      <td>NaN</td>\n",
              "      <td>NaN</td>\n",
              "      <td>NaN</td>\n",
              "      <td>NaN</td>\n",
              "      <td>NaN</td>\n",
              "      <td>NaN</td>\n",
              "      <td>NaN</td>\n",
              "      <td>Deadlock</td>\n",
              "      <td>NaN</td>\n",
              "      <td>NaN</td>\n",
              "      <td>NaN</td>\n",
              "      <td>NaN</td>\n",
              "      <td>NaN</td>\n",
              "      <td>NaN</td>\n",
              "      <td>NaN</td>\n",
              "      <td>NaN</td>\n",
              "      <td>Deadlocks</td>\n",
              "      <td>NaN</td>\n",
              "      <td>NaN</td>\n",
              "      <td>NaN</td>\n",
              "      <td>NaN</td>\n",
              "      <td>NaN</td>\n",
              "      <td>NaN</td>\n",
              "      <td>NaN</td>\n",
              "      <td>NaN</td>\n",
              "      <td>Deadlock</td>\n",
              "      <td>NaN</td>\n",
              "      <td>NaN</td>\n",
              "      <td>NaN</td>\n",
              "      <td>NaN</td>\n",
              "      <td>NaN</td>\n",
              "      <td>NaN</td>\n",
              "      <td>NaN</td>\n",
              "      <td>NaN</td>\n",
              "      <td>Deadlocks</td>\n",
              "      <td>NaN</td>\n",
              "      <td>NaN</td>\n",
              "      <td>NaN</td>\n",
              "      <td>NaN</td>\n",
              "      <td>NaN</td>\n",
              "      <td>NaN</td>\n",
              "      <td>NaN</td>\n",
              "      <td>NaN</td>\n",
              "    </tr>\n",
              "    <tr>\n",
              "      <th>31501</th>\n",
              "      <td>Halteproblem</td>\n",
              "      <td>Substantiv</td>\n",
              "      <td>n</td>\n",
              "      <td>NaN</td>\n",
              "      <td>NaN</td>\n",
              "      <td>NaN</td>\n",
              "      <td>NaN</td>\n",
              "      <td>Halteproblem</td>\n",
              "      <td>NaN</td>\n",
              "      <td>NaN</td>\n",
              "      <td>NaN</td>\n",
              "      <td>NaN</td>\n",
              "      <td>NaN</td>\n",
              "      <td>NaN</td>\n",
              "      <td>NaN</td>\n",
              "      <td>NaN</td>\n",
              "      <td>Halteprobleme</td>\n",
              "      <td>NaN</td>\n",
              "      <td>NaN</td>\n",
              "      <td>NaN</td>\n",
              "      <td>NaN</td>\n",
              "      <td>NaN</td>\n",
              "      <td>NaN</td>\n",
              "      <td>NaN</td>\n",
              "      <td>NaN</td>\n",
              "      <td>Halteproblems</td>\n",
              "      <td>NaN</td>\n",
              "      <td>NaN</td>\n",
              "      <td>NaN</td>\n",
              "      <td>NaN</td>\n",
              "      <td>NaN</td>\n",
              "      <td>NaN</td>\n",
              "      <td>NaN</td>\n",
              "      <td>NaN</td>\n",
              "      <td>Halteprobleme</td>\n",
              "      <td>NaN</td>\n",
              "      <td>NaN</td>\n",
              "      <td>NaN</td>\n",
              "      <td>NaN</td>\n",
              "      <td>NaN</td>\n",
              "      <td>NaN</td>\n",
              "      <td>NaN</td>\n",
              "      <td>NaN</td>\n",
              "      <td>Halteproblem</td>\n",
              "      <td>NaN</td>\n",
              "      <td>NaN</td>\n",
              "      <td>NaN</td>\n",
              "      <td>NaN</td>\n",
              "      <td>NaN</td>\n",
              "      <td>NaN</td>\n",
              "      <td>NaN</td>\n",
              "      <td>NaN</td>\n",
              "      <td>Halteproblemen</td>\n",
              "      <td>NaN</td>\n",
              "      <td>NaN</td>\n",
              "      <td>NaN</td>\n",
              "      <td>NaN</td>\n",
              "      <td>NaN</td>\n",
              "      <td>NaN</td>\n",
              "      <td>NaN</td>\n",
              "      <td>NaN</td>\n",
              "      <td>Halteproblem</td>\n",
              "      <td>NaN</td>\n",
              "      <td>NaN</td>\n",
              "      <td>NaN</td>\n",
              "      <td>NaN</td>\n",
              "      <td>NaN</td>\n",
              "      <td>NaN</td>\n",
              "      <td>NaN</td>\n",
              "      <td>NaN</td>\n",
              "      <td>Halteprobleme</td>\n",
              "      <td>NaN</td>\n",
              "      <td>NaN</td>\n",
              "      <td>NaN</td>\n",
              "      <td>NaN</td>\n",
              "      <td>NaN</td>\n",
              "      <td>NaN</td>\n",
              "      <td>NaN</td>\n",
              "      <td>NaN</td>\n",
              "    </tr>\n",
              "    <tr>\n",
              "      <th>76063</th>\n",
              "      <td>Talent</td>\n",
              "      <td>Substantiv</td>\n",
              "      <td>n</td>\n",
              "      <td>NaN</td>\n",
              "      <td>NaN</td>\n",
              "      <td>NaN</td>\n",
              "      <td>NaN</td>\n",
              "      <td>Talent</td>\n",
              "      <td>NaN</td>\n",
              "      <td>NaN</td>\n",
              "      <td>NaN</td>\n",
              "      <td>NaN</td>\n",
              "      <td>NaN</td>\n",
              "      <td>NaN</td>\n",
              "      <td>NaN</td>\n",
              "      <td>NaN</td>\n",
              "      <td>Talente</td>\n",
              "      <td>NaN</td>\n",
              "      <td>NaN</td>\n",
              "      <td>NaN</td>\n",
              "      <td>NaN</td>\n",
              "      <td>NaN</td>\n",
              "      <td>NaN</td>\n",
              "      <td>NaN</td>\n",
              "      <td>NaN</td>\n",
              "      <td>Talentes</td>\n",
              "      <td>Talents</td>\n",
              "      <td>NaN</td>\n",
              "      <td>NaN</td>\n",
              "      <td>NaN</td>\n",
              "      <td>NaN</td>\n",
              "      <td>NaN</td>\n",
              "      <td>NaN</td>\n",
              "      <td>NaN</td>\n",
              "      <td>Talente</td>\n",
              "      <td>NaN</td>\n",
              "      <td>NaN</td>\n",
              "      <td>NaN</td>\n",
              "      <td>NaN</td>\n",
              "      <td>NaN</td>\n",
              "      <td>NaN</td>\n",
              "      <td>NaN</td>\n",
              "      <td>NaN</td>\n",
              "      <td>Talent</td>\n",
              "      <td>Talente</td>\n",
              "      <td>NaN</td>\n",
              "      <td>NaN</td>\n",
              "      <td>NaN</td>\n",
              "      <td>NaN</td>\n",
              "      <td>NaN</td>\n",
              "      <td>NaN</td>\n",
              "      <td>NaN</td>\n",
              "      <td>Talenten</td>\n",
              "      <td>NaN</td>\n",
              "      <td>NaN</td>\n",
              "      <td>NaN</td>\n",
              "      <td>NaN</td>\n",
              "      <td>NaN</td>\n",
              "      <td>NaN</td>\n",
              "      <td>NaN</td>\n",
              "      <td>NaN</td>\n",
              "      <td>Talent</td>\n",
              "      <td>NaN</td>\n",
              "      <td>NaN</td>\n",
              "      <td>NaN</td>\n",
              "      <td>NaN</td>\n",
              "      <td>NaN</td>\n",
              "      <td>NaN</td>\n",
              "      <td>NaN</td>\n",
              "      <td>NaN</td>\n",
              "      <td>Talente</td>\n",
              "      <td>NaN</td>\n",
              "      <td>NaN</td>\n",
              "      <td>NaN</td>\n",
              "      <td>NaN</td>\n",
              "      <td>NaN</td>\n",
              "      <td>NaN</td>\n",
              "      <td>NaN</td>\n",
              "      <td>NaN</td>\n",
              "    </tr>\n",
              "    <tr>\n",
              "      <th>30415</th>\n",
              "      <td>Grundschülerin</td>\n",
              "      <td>Substantiv</td>\n",
              "      <td>f</td>\n",
              "      <td>NaN</td>\n",
              "      <td>NaN</td>\n",
              "      <td>NaN</td>\n",
              "      <td>NaN</td>\n",
              "      <td>Grundschülerin</td>\n",
              "      <td>NaN</td>\n",
              "      <td>NaN</td>\n",
              "      <td>NaN</td>\n",
              "      <td>NaN</td>\n",
              "      <td>NaN</td>\n",
              "      <td>NaN</td>\n",
              "      <td>NaN</td>\n",
              "      <td>NaN</td>\n",
              "      <td>Grundschülerinnen</td>\n",
              "      <td>NaN</td>\n",
              "      <td>NaN</td>\n",
              "      <td>NaN</td>\n",
              "      <td>NaN</td>\n",
              "      <td>NaN</td>\n",
              "      <td>NaN</td>\n",
              "      <td>NaN</td>\n",
              "      <td>NaN</td>\n",
              "      <td>Grundschülerin</td>\n",
              "      <td>NaN</td>\n",
              "      <td>NaN</td>\n",
              "      <td>NaN</td>\n",
              "      <td>NaN</td>\n",
              "      <td>NaN</td>\n",
              "      <td>NaN</td>\n",
              "      <td>NaN</td>\n",
              "      <td>NaN</td>\n",
              "      <td>Grundschülerinnen</td>\n",
              "      <td>NaN</td>\n",
              "      <td>NaN</td>\n",
              "      <td>NaN</td>\n",
              "      <td>NaN</td>\n",
              "      <td>NaN</td>\n",
              "      <td>NaN</td>\n",
              "      <td>NaN</td>\n",
              "      <td>NaN</td>\n",
              "      <td>Grundschülerin</td>\n",
              "      <td>NaN</td>\n",
              "      <td>NaN</td>\n",
              "      <td>NaN</td>\n",
              "      <td>NaN</td>\n",
              "      <td>NaN</td>\n",
              "      <td>NaN</td>\n",
              "      <td>NaN</td>\n",
              "      <td>NaN</td>\n",
              "      <td>Grundschülerinnen</td>\n",
              "      <td>NaN</td>\n",
              "      <td>NaN</td>\n",
              "      <td>NaN</td>\n",
              "      <td>NaN</td>\n",
              "      <td>NaN</td>\n",
              "      <td>NaN</td>\n",
              "      <td>NaN</td>\n",
              "      <td>NaN</td>\n",
              "      <td>Grundschülerin</td>\n",
              "      <td>NaN</td>\n",
              "      <td>NaN</td>\n",
              "      <td>NaN</td>\n",
              "      <td>NaN</td>\n",
              "      <td>NaN</td>\n",
              "      <td>NaN</td>\n",
              "      <td>NaN</td>\n",
              "      <td>NaN</td>\n",
              "      <td>Grundschülerinnen</td>\n",
              "      <td>NaN</td>\n",
              "      <td>NaN</td>\n",
              "      <td>NaN</td>\n",
              "      <td>NaN</td>\n",
              "      <td>NaN</td>\n",
              "      <td>NaN</td>\n",
              "      <td>NaN</td>\n",
              "      <td>NaN</td>\n",
              "    </tr>\n",
              "    <tr>\n",
              "      <th>47120</th>\n",
              "      <td>Lychen</td>\n",
              "      <td>Substantiv,Toponym</td>\n",
              "      <td>NaN</td>\n",
              "      <td>NaN</td>\n",
              "      <td>NaN</td>\n",
              "      <td>NaN</td>\n",
              "      <td>NaN</td>\n",
              "      <td>NaN</td>\n",
              "      <td>NaN</td>\n",
              "      <td>NaN</td>\n",
              "      <td>NaN</td>\n",
              "      <td>NaN</td>\n",
              "      <td>NaN</td>\n",
              "      <td>NaN</td>\n",
              "      <td>NaN</td>\n",
              "      <td>NaN</td>\n",
              "      <td>NaN</td>\n",
              "      <td>NaN</td>\n",
              "      <td>NaN</td>\n",
              "      <td>NaN</td>\n",
              "      <td>NaN</td>\n",
              "      <td>NaN</td>\n",
              "      <td>NaN</td>\n",
              "      <td>NaN</td>\n",
              "      <td>NaN</td>\n",
              "      <td>NaN</td>\n",
              "      <td>NaN</td>\n",
              "      <td>NaN</td>\n",
              "      <td>NaN</td>\n",
              "      <td>NaN</td>\n",
              "      <td>NaN</td>\n",
              "      <td>NaN</td>\n",
              "      <td>NaN</td>\n",
              "      <td>NaN</td>\n",
              "      <td>NaN</td>\n",
              "      <td>NaN</td>\n",
              "      <td>NaN</td>\n",
              "      <td>NaN</td>\n",
              "      <td>NaN</td>\n",
              "      <td>NaN</td>\n",
              "      <td>NaN</td>\n",
              "      <td>NaN</td>\n",
              "      <td>NaN</td>\n",
              "      <td>NaN</td>\n",
              "      <td>NaN</td>\n",
              "      <td>NaN</td>\n",
              "      <td>NaN</td>\n",
              "      <td>NaN</td>\n",
              "      <td>NaN</td>\n",
              "      <td>NaN</td>\n",
              "      <td>NaN</td>\n",
              "      <td>NaN</td>\n",
              "      <td>NaN</td>\n",
              "      <td>NaN</td>\n",
              "      <td>NaN</td>\n",
              "      <td>NaN</td>\n",
              "      <td>NaN</td>\n",
              "      <td>NaN</td>\n",
              "      <td>NaN</td>\n",
              "      <td>NaN</td>\n",
              "      <td>NaN</td>\n",
              "      <td>NaN</td>\n",
              "      <td>NaN</td>\n",
              "      <td>NaN</td>\n",
              "      <td>NaN</td>\n",
              "      <td>NaN</td>\n",
              "      <td>NaN</td>\n",
              "      <td>NaN</td>\n",
              "      <td>NaN</td>\n",
              "      <td>NaN</td>\n",
              "      <td>NaN</td>\n",
              "      <td>NaN</td>\n",
              "      <td>NaN</td>\n",
              "      <td>NaN</td>\n",
              "      <td>NaN</td>\n",
              "      <td>NaN</td>\n",
              "      <td>NaN</td>\n",
              "      <td>NaN</td>\n",
              "      <td>NaN</td>\n",
              "    </tr>\n",
              "    <tr>\n",
              "      <th>68247</th>\n",
              "      <td>Schummerung</td>\n",
              "      <td>Substantiv</td>\n",
              "      <td>f</td>\n",
              "      <td>NaN</td>\n",
              "      <td>NaN</td>\n",
              "      <td>NaN</td>\n",
              "      <td>NaN</td>\n",
              "      <td>Schummerung</td>\n",
              "      <td>NaN</td>\n",
              "      <td>NaN</td>\n",
              "      <td>NaN</td>\n",
              "      <td>NaN</td>\n",
              "      <td>NaN</td>\n",
              "      <td>NaN</td>\n",
              "      <td>NaN</td>\n",
              "      <td>NaN</td>\n",
              "      <td>Schummerungen</td>\n",
              "      <td>NaN</td>\n",
              "      <td>NaN</td>\n",
              "      <td>NaN</td>\n",
              "      <td>NaN</td>\n",
              "      <td>NaN</td>\n",
              "      <td>NaN</td>\n",
              "      <td>NaN</td>\n",
              "      <td>NaN</td>\n",
              "      <td>Schummerung</td>\n",
              "      <td>NaN</td>\n",
              "      <td>NaN</td>\n",
              "      <td>NaN</td>\n",
              "      <td>NaN</td>\n",
              "      <td>NaN</td>\n",
              "      <td>NaN</td>\n",
              "      <td>NaN</td>\n",
              "      <td>NaN</td>\n",
              "      <td>Schummerungen</td>\n",
              "      <td>NaN</td>\n",
              "      <td>NaN</td>\n",
              "      <td>NaN</td>\n",
              "      <td>NaN</td>\n",
              "      <td>NaN</td>\n",
              "      <td>NaN</td>\n",
              "      <td>NaN</td>\n",
              "      <td>NaN</td>\n",
              "      <td>Schummerung</td>\n",
              "      <td>NaN</td>\n",
              "      <td>NaN</td>\n",
              "      <td>NaN</td>\n",
              "      <td>NaN</td>\n",
              "      <td>NaN</td>\n",
              "      <td>NaN</td>\n",
              "      <td>NaN</td>\n",
              "      <td>NaN</td>\n",
              "      <td>Schummerungen</td>\n",
              "      <td>NaN</td>\n",
              "      <td>NaN</td>\n",
              "      <td>NaN</td>\n",
              "      <td>NaN</td>\n",
              "      <td>NaN</td>\n",
              "      <td>NaN</td>\n",
              "      <td>NaN</td>\n",
              "      <td>NaN</td>\n",
              "      <td>Schummerung</td>\n",
              "      <td>NaN</td>\n",
              "      <td>NaN</td>\n",
              "      <td>NaN</td>\n",
              "      <td>NaN</td>\n",
              "      <td>NaN</td>\n",
              "      <td>NaN</td>\n",
              "      <td>NaN</td>\n",
              "      <td>NaN</td>\n",
              "      <td>Schummerungen</td>\n",
              "      <td>NaN</td>\n",
              "      <td>NaN</td>\n",
              "      <td>NaN</td>\n",
              "      <td>NaN</td>\n",
              "      <td>NaN</td>\n",
              "      <td>NaN</td>\n",
              "      <td>NaN</td>\n",
              "      <td>NaN</td>\n",
              "    </tr>\n",
              "    <tr>\n",
              "      <th>28976</th>\n",
              "      <td>Gitter</td>\n",
              "      <td>Substantiv</td>\n",
              "      <td>n</td>\n",
              "      <td>NaN</td>\n",
              "      <td>NaN</td>\n",
              "      <td>NaN</td>\n",
              "      <td>NaN</td>\n",
              "      <td>Gitter</td>\n",
              "      <td>NaN</td>\n",
              "      <td>NaN</td>\n",
              "      <td>NaN</td>\n",
              "      <td>NaN</td>\n",
              "      <td>NaN</td>\n",
              "      <td>NaN</td>\n",
              "      <td>NaN</td>\n",
              "      <td>NaN</td>\n",
              "      <td>Gitter</td>\n",
              "      <td>NaN</td>\n",
              "      <td>NaN</td>\n",
              "      <td>NaN</td>\n",
              "      <td>NaN</td>\n",
              "      <td>NaN</td>\n",
              "      <td>NaN</td>\n",
              "      <td>NaN</td>\n",
              "      <td>NaN</td>\n",
              "      <td>Gitters</td>\n",
              "      <td>NaN</td>\n",
              "      <td>NaN</td>\n",
              "      <td>NaN</td>\n",
              "      <td>NaN</td>\n",
              "      <td>NaN</td>\n",
              "      <td>NaN</td>\n",
              "      <td>NaN</td>\n",
              "      <td>NaN</td>\n",
              "      <td>Gitter</td>\n",
              "      <td>NaN</td>\n",
              "      <td>NaN</td>\n",
              "      <td>NaN</td>\n",
              "      <td>NaN</td>\n",
              "      <td>NaN</td>\n",
              "      <td>NaN</td>\n",
              "      <td>NaN</td>\n",
              "      <td>NaN</td>\n",
              "      <td>Gitter</td>\n",
              "      <td>NaN</td>\n",
              "      <td>NaN</td>\n",
              "      <td>NaN</td>\n",
              "      <td>NaN</td>\n",
              "      <td>NaN</td>\n",
              "      <td>NaN</td>\n",
              "      <td>NaN</td>\n",
              "      <td>NaN</td>\n",
              "      <td>Gittern</td>\n",
              "      <td>NaN</td>\n",
              "      <td>NaN</td>\n",
              "      <td>NaN</td>\n",
              "      <td>NaN</td>\n",
              "      <td>NaN</td>\n",
              "      <td>NaN</td>\n",
              "      <td>NaN</td>\n",
              "      <td>NaN</td>\n",
              "      <td>Gitter</td>\n",
              "      <td>NaN</td>\n",
              "      <td>NaN</td>\n",
              "      <td>NaN</td>\n",
              "      <td>NaN</td>\n",
              "      <td>NaN</td>\n",
              "      <td>NaN</td>\n",
              "      <td>NaN</td>\n",
              "      <td>NaN</td>\n",
              "      <td>Gitter</td>\n",
              "      <td>NaN</td>\n",
              "      <td>NaN</td>\n",
              "      <td>NaN</td>\n",
              "      <td>NaN</td>\n",
              "      <td>NaN</td>\n",
              "      <td>NaN</td>\n",
              "      <td>NaN</td>\n",
              "      <td>NaN</td>\n",
              "    </tr>\n",
              "    <tr>\n",
              "      <th>49619</th>\n",
              "      <td>Meta</td>\n",
              "      <td>Substantiv,Vorname</td>\n",
              "      <td>NaN</td>\n",
              "      <td>NaN</td>\n",
              "      <td>NaN</td>\n",
              "      <td>NaN</td>\n",
              "      <td>NaN</td>\n",
              "      <td>NaN</td>\n",
              "      <td>NaN</td>\n",
              "      <td>NaN</td>\n",
              "      <td>NaN</td>\n",
              "      <td>NaN</td>\n",
              "      <td>NaN</td>\n",
              "      <td>NaN</td>\n",
              "      <td>NaN</td>\n",
              "      <td>NaN</td>\n",
              "      <td>NaN</td>\n",
              "      <td>NaN</td>\n",
              "      <td>NaN</td>\n",
              "      <td>NaN</td>\n",
              "      <td>NaN</td>\n",
              "      <td>NaN</td>\n",
              "      <td>NaN</td>\n",
              "      <td>NaN</td>\n",
              "      <td>NaN</td>\n",
              "      <td>NaN</td>\n",
              "      <td>NaN</td>\n",
              "      <td>NaN</td>\n",
              "      <td>NaN</td>\n",
              "      <td>NaN</td>\n",
              "      <td>NaN</td>\n",
              "      <td>NaN</td>\n",
              "      <td>NaN</td>\n",
              "      <td>NaN</td>\n",
              "      <td>NaN</td>\n",
              "      <td>NaN</td>\n",
              "      <td>NaN</td>\n",
              "      <td>NaN</td>\n",
              "      <td>NaN</td>\n",
              "      <td>NaN</td>\n",
              "      <td>NaN</td>\n",
              "      <td>NaN</td>\n",
              "      <td>NaN</td>\n",
              "      <td>NaN</td>\n",
              "      <td>NaN</td>\n",
              "      <td>NaN</td>\n",
              "      <td>NaN</td>\n",
              "      <td>NaN</td>\n",
              "      <td>NaN</td>\n",
              "      <td>NaN</td>\n",
              "      <td>NaN</td>\n",
              "      <td>NaN</td>\n",
              "      <td>NaN</td>\n",
              "      <td>NaN</td>\n",
              "      <td>NaN</td>\n",
              "      <td>NaN</td>\n",
              "      <td>NaN</td>\n",
              "      <td>NaN</td>\n",
              "      <td>NaN</td>\n",
              "      <td>NaN</td>\n",
              "      <td>NaN</td>\n",
              "      <td>NaN</td>\n",
              "      <td>NaN</td>\n",
              "      <td>NaN</td>\n",
              "      <td>NaN</td>\n",
              "      <td>NaN</td>\n",
              "      <td>NaN</td>\n",
              "      <td>NaN</td>\n",
              "      <td>NaN</td>\n",
              "      <td>NaN</td>\n",
              "      <td>NaN</td>\n",
              "      <td>NaN</td>\n",
              "      <td>NaN</td>\n",
              "      <td>NaN</td>\n",
              "      <td>NaN</td>\n",
              "      <td>NaN</td>\n",
              "      <td>NaN</td>\n",
              "      <td>NaN</td>\n",
              "      <td>NaN</td>\n",
              "    </tr>\n",
              "  </tbody>\n",
              "</table>\n",
              "</div>"
            ],
            "text/plain": [
              "                lemma  ... akkusativ plural gemischt\n",
              "14434     Christkindl  ...                       NaN\n",
              "44182   Laab im Walde  ...                       NaN\n",
              "15611        Deadlock  ...                       NaN\n",
              "31501    Halteproblem  ...                       NaN\n",
              "76063          Talent  ...                       NaN\n",
              "30415  Grundschülerin  ...                       NaN\n",
              "47120          Lychen  ...                       NaN\n",
              "68247     Schummerung  ...                       NaN\n",
              "28976          Gitter  ...                       NaN\n",
              "49619            Meta  ...                       NaN\n",
              "\n",
              "[10 rows x 79 columns]"
            ]
          },
          "metadata": {},
          "execution_count": 4
        }
      ]
    },
    {
      "cell_type": "code",
      "metadata": {
        "colab": {
          "base_uri": "https://localhost:8080/"
        },
        "id": "BtiGPJ4MpHL2",
        "outputId": "b33765e0-be2a-4042-e887-5d1e77c6561e"
      },
      "source": [
        "df.info()"
      ],
      "execution_count": 5,
      "outputs": [
        {
          "output_type": "stream",
          "name": "stdout",
          "text": [
            "<class 'pandas.core.frame.DataFrame'>\n",
            "RangeIndex: 90212 entries, 0 to 90211\n",
            "Data columns (total 79 columns):\n",
            " #   Column                       Non-Null Count  Dtype \n",
            "---  ------                       --------------  ----- \n",
            " 0   lemma                        90212 non-null  object\n",
            " 1   pos                          90212 non-null  object\n",
            " 2   genus                        80566 non-null  object\n",
            " 3   genus 1                      1173 non-null   object\n",
            " 4   genus 2                      1186 non-null   object\n",
            " 5   genus 3                      39 non-null     object\n",
            " 6   genus 4                      1 non-null      object\n",
            " 7   nominativ singular           78706 non-null  object\n",
            " 8   nominativ singular*          4 non-null      object\n",
            " 9   nominativ singular 1         1175 non-null   object\n",
            " 10  nominativ singular 2         1188 non-null   object\n",
            " 11  nominativ singular 3         39 non-null     object\n",
            " 12  nominativ singular 4         1 non-null      object\n",
            " 13  nominativ singular stark     1735 non-null   object\n",
            " 14  nominativ singular schwach   1735 non-null   object\n",
            " 15  nominativ singular gemischt  1726 non-null   object\n",
            " 16  nominativ plural             66847 non-null  object\n",
            " 17  nominativ plural*            71 non-null     object\n",
            " 18  nominativ plural 1           2094 non-null   object\n",
            " 19  nominativ plural 2           2108 non-null   object\n",
            " 20  nominativ plural 3           107 non-null    object\n",
            " 21  nominativ plural 4           4 non-null      object\n",
            " 22  nominativ plural stark       1343 non-null   object\n",
            " 23  nominativ plural schwach     1339 non-null   object\n",
            " 24  nominativ plural gemischt    1337 non-null   object\n",
            " 25  genitiv singular             78724 non-null  object\n",
            " 26  genitiv singular*            16190 non-null  object\n",
            " 27  genitiv singular 1           1176 non-null   object\n",
            " 28  genitiv singular 2           1188 non-null   object\n",
            " 29  genitiv singular 3           39 non-null     object\n",
            " 30  genitiv singular 4           1 non-null      object\n",
            " 31  genitiv singular stark       1732 non-null   object\n",
            " 32  genitiv singular schwach     1732 non-null   object\n",
            " 33  genitiv singular gemischt    1726 non-null   object\n",
            " 34  genitiv plural               66838 non-null  object\n",
            " 35  genitiv plural*              70 non-null     object\n",
            " 36  genitiv plural 1             2096 non-null   object\n",
            " 37  genitiv plural 2             2109 non-null   object\n",
            " 38  genitiv plural 3             107 non-null    object\n",
            " 39  genitiv plural 4             4 non-null      object\n",
            " 40  genitiv plural stark         1339 non-null   object\n",
            " 41  genitiv plural schwach       1339 non-null   object\n",
            " 42  genitiv plural gemischt      1337 non-null   object\n",
            " 43  dativ singular               78699 non-null  object\n",
            " 44  dativ singular*              14109 non-null  object\n",
            " 45  dativ singular 1             1175 non-null   object\n",
            " 46  dativ singular 2             1188 non-null   object\n",
            " 47  dativ singular 3             39 non-null     object\n",
            " 48  dativ singular 4             1 non-null      object\n",
            " 49  dativ singular stark         1732 non-null   object\n",
            " 50  dativ singular schwach       1732 non-null   object\n",
            " 51  dativ singular gemischt      1726 non-null   object\n",
            " 52  dativ plural                 66838 non-null  object\n",
            " 53  dativ plural*                66 non-null     object\n",
            " 54  dativ plural 1               2103 non-null   object\n",
            " 55  dativ plural 2               2111 non-null   object\n",
            " 56  dativ plural 3               107 non-null    object\n",
            " 57  dativ plural 4               4 non-null      object\n",
            " 58  dativ plural stark           1339 non-null   object\n",
            " 59  dativ plural schwach         1339 non-null   object\n",
            " 60  dativ plural gemischt        1337 non-null   object\n",
            " 61  akkusativ singular           78675 non-null  object\n",
            " 62  akkusativ singular*          41 non-null     object\n",
            " 63  akkusativ singular 1         1202 non-null   object\n",
            " 64  akkusativ singular 2         1189 non-null   object\n",
            " 65  akkusativ singular 3         39 non-null     object\n",
            " 66  akkusativ singular 4         1 non-null      object\n",
            " 67  akkusativ singular stark     1732 non-null   object\n",
            " 68  akkusativ singular schwach   1732 non-null   object\n",
            " 69  akkusativ singular gemischt  1726 non-null   object\n",
            " 70  akkusativ plural             66850 non-null  object\n",
            " 71  akkusativ plural*            70 non-null     object\n",
            " 72  akkusativ plural 1           2100 non-null   object\n",
            " 73  akkusativ plural 2           2112 non-null   object\n",
            " 74  akkusativ plural 3           107 non-null    object\n",
            " 75  akkusativ plural 4           4 non-null      object\n",
            " 76  akkusativ plural stark       1339 non-null   object\n",
            " 77  akkusativ plural schwach     1339 non-null   object\n",
            " 78  akkusativ plural gemischt    1337 non-null   object\n",
            "dtypes: object(79)\n",
            "memory usage: 54.4+ MB\n"
          ]
        }
      ]
    },
    {
      "cell_type": "code",
      "metadata": {
        "colab": {
          "base_uri": "https://localhost:8080/",
          "height": 292
        },
        "id": "Ve89symyqM_C",
        "outputId": "354e800f-674d-44ed-c895-60285307f179"
      },
      "source": [
        "df.genus.value_counts(dropna=False).plot.bar()"
      ],
      "execution_count": 6,
      "outputs": [
        {
          "output_type": "execute_result",
          "data": {
            "text/plain": [
              "<matplotlib.axes._subplots.AxesSubplot at 0x7f18b6518a10>"
            ]
          },
          "metadata": {},
          "execution_count": 6
        },
        {
          "output_type": "display_data",
          "data": {
            "image/png": "[encoded data removed]",
            "text/plain": [
              "<Figure size 432x288 with 1 Axes>"
            ]
          },
          "metadata": {
            "needs_background": "light"
          }
        }
      ]
    },
    {
      "cell_type": "code",
      "metadata": {
        "colab": {
          "base_uri": "https://localhost:8080/",
          "height": 669
        },
        "id": "mO5r-MGbqhAe",
        "outputId": "59eee291-64e5-4fb0-e033-735eeaf6bb41"
      },
      "source": [
        "df.pos.value_counts(dropna=False, normalize=True).plot.bar()"
      ],
      "execution_count": 7,
      "outputs": [
        {
          "output_type": "execute_result",
          "data": {
            "text/plain": [
              "<matplotlib.axes._subplots.AxesSubplot at 0x7f18b5d2d190>"
            ]
          },
          "metadata": {},
          "execution_count": 7
        },
        {
          "output_type": "display_data",
          "data": {
            "image/png": "[encoded data removed]",
            "text/plain": [
              "<Figure size 432x288 with 1 Axes>"
            ]
          },
          "metadata": {
            "needs_background": "light"
          }
        }
      ]
    },
    {
      "cell_type": "markdown",
      "metadata": {
        "id": "qwbkEpLCrOBY"
      },
      "source": [
        "We can see that the dataset mostly consists of 'Substantiv' pos classes. I suspect that most nans are related to those <5% entries"
      ]
    },
    {
      "cell_type": "code",
      "metadata": {
        "colab": {
          "base_uri": "https://localhost:8080/",
          "height": 599
        },
        "id": "Q5-MObDjrNLH",
        "outputId": "ed144266-ce8b-4ce6-f571-8a8c0d1c83e3"
      },
      "source": [
        "df[df.genus.isna()].pos.value_counts(dropna=False, normalize=True).plot.bar()"
      ],
      "execution_count": 8,
      "outputs": [
        {
          "output_type": "execute_result",
          "data": {
            "text/plain": [
              "<matplotlib.axes._subplots.AxesSubplot at 0x7f18b5c5dbd0>"
            ]
          },
          "metadata": {},
          "execution_count": 8
        },
        {
          "output_type": "display_data",
          "data": {
            "image/png": "[encoded data removed]",
            "text/plain": [
              "<Figure size 432x288 with 1 Axes>"
            ]
          },
          "metadata": {
            "needs_background": "light"
          }
        }
      ]
    },
    {
      "cell_type": "markdown",
      "metadata": {
        "id": "gpRPfj-DryRK"
      },
      "source": [
        "Let's drop toponyms, names, abbreviations, etc – they usually don't have any gender, therefore are out of scope of this work"
      ]
    },
    {
      "cell_type": "code",
      "metadata": {
        "colab": {
          "base_uri": "https://localhost:8080/"
        },
        "id": "_Pscg52LrHvn",
        "outputId": "e31fca0f-1b23-49e8-84c4-e7cc572b3678"
      },
      "source": [
        "(df.pos == 'Substantiv').value_counts(normalize=True)"
      ],
      "execution_count": 9,
      "outputs": [
        {
          "output_type": "execute_result",
          "data": {
            "text/plain": [
              "True     0.879284\n",
              "False    0.120716\n",
              "Name: pos, dtype: float64"
            ]
          },
          "metadata": {},
          "execution_count": 9
        }
      ]
    },
    {
      "cell_type": "code",
      "metadata": {
        "id": "xWz50sDVsQ1p"
      },
      "source": [
        "df = df[df.pos == 'Substantiv']"
      ],
      "execution_count": 10,
      "outputs": []
    },
    {
      "cell_type": "code",
      "metadata": {
        "colab": {
          "base_uri": "https://localhost:8080/",
          "height": 326
        },
        "id": "5YWUMNCfsb2T",
        "outputId": "90a7bf28-f8a4-44e5-ad40-5a02d4142916"
      },
      "source": [
        "df.pos.value_counts(dropna=False, normalize=True).plot.bar()"
      ],
      "execution_count": 11,
      "outputs": [
        {
          "output_type": "execute_result",
          "data": {
            "text/plain": [
              "<matplotlib.axes._subplots.AxesSubplot at 0x7f18b65def10>"
            ]
          },
          "metadata": {},
          "execution_count": 11
        },
        {
          "output_type": "display_data",
          "data": {
            "image/png": "[encoded data removed]",
            "text/plain": [
              "<Figure size 432x288 with 1 Axes>"
            ]
          },
          "metadata": {
            "needs_background": "light"
          }
        }
      ]
    },
    {
      "cell_type": "code",
      "metadata": {
        "colab": {
          "base_uri": "https://localhost:8080/",
          "height": 418
        },
        "id": "WLWuQJp1sfLn",
        "outputId": "4427d338-62fa-4953-bdbe-6c492fc8436c"
      },
      "source": [
        "df.sample(10)"
      ],
      "execution_count": 12,
      "outputs": [
        {
          "output_type": "execute_result",
          "data": {
            "text/html": [
              "<div>\n",
              "<style scoped>\n",
              "    .dataframe tbody tr th:only-of-type {\n",
              "        vertical-align: middle;\n",
              "    }\n",
              "\n",
              "    .dataframe tbody tr th {\n",
              "        vertical-align: top;\n",
              "    }\n",
              "\n",
              "    .dataframe thead th {\n",
              "        text-align: right;\n",
              "    }\n",
              "</style>\n",
              "<table border=\"1\" class=\"dataframe\">\n",
              "  <thead>\n",
              "    <tr style=\"text-align: right;\">\n",
              "      <th></th>\n",
              "      <th>lemma</th>\n",
              "      <th>pos</th>\n",
              "      <th>genus</th>\n",
              "      <th>genus 1</th>\n",
              "      <th>genus 2</th>\n",
              "      <th>genus 3</th>\n",
              "      <th>genus 4</th>\n",
              "      <th>nominativ singular</th>\n",
              "      <th>nominativ singular*</th>\n",
              "      <th>nominativ singular 1</th>\n",
              "      <th>nominativ singular 2</th>\n",
              "      <th>nominativ singular 3</th>\n",
              "      <th>nominativ singular 4</th>\n",
              "      <th>nominativ singular stark</th>\n",
              "      <th>nominativ singular schwach</th>\n",
              "      <th>nominativ singular gemischt</th>\n",
              "      <th>nominativ plural</th>\n",
              "      <th>nominativ plural*</th>\n",
              "      <th>nominativ plural 1</th>\n",
              "      <th>nominativ plural 2</th>\n",
              "      <th>nominativ plural 3</th>\n",
              "      <th>nominativ plural 4</th>\n",
              "      <th>nominativ plural stark</th>\n",
              "      <th>nominativ plural schwach</th>\n",
              "      <th>nominativ plural gemischt</th>\n",
              "      <th>genitiv singular</th>\n",
              "      <th>genitiv singular*</th>\n",
              "      <th>genitiv singular 1</th>\n",
              "      <th>genitiv singular 2</th>\n",
              "      <th>genitiv singular 3</th>\n",
              "      <th>genitiv singular 4</th>\n",
              "      <th>genitiv singular stark</th>\n",
              "      <th>genitiv singular schwach</th>\n",
              "      <th>genitiv singular gemischt</th>\n",
              "      <th>genitiv plural</th>\n",
              "      <th>genitiv plural*</th>\n",
              "      <th>genitiv plural 1</th>\n",
              "      <th>genitiv plural 2</th>\n",
              "      <th>genitiv plural 3</th>\n",
              "      <th>genitiv plural 4</th>\n",
              "      <th>genitiv plural stark</th>\n",
              "      <th>genitiv plural schwach</th>\n",
              "      <th>genitiv plural gemischt</th>\n",
              "      <th>dativ singular</th>\n",
              "      <th>dativ singular*</th>\n",
              "      <th>dativ singular 1</th>\n",
              "      <th>dativ singular 2</th>\n",
              "      <th>dativ singular 3</th>\n",
              "      <th>dativ singular 4</th>\n",
              "      <th>dativ singular stark</th>\n",
              "      <th>dativ singular schwach</th>\n",
              "      <th>dativ singular gemischt</th>\n",
              "      <th>dativ plural</th>\n",
              "      <th>dativ plural*</th>\n",
              "      <th>dativ plural 1</th>\n",
              "      <th>dativ plural 2</th>\n",
              "      <th>dativ plural 3</th>\n",
              "      <th>dativ plural 4</th>\n",
              "      <th>dativ plural stark</th>\n",
              "      <th>dativ plural schwach</th>\n",
              "      <th>dativ plural gemischt</th>\n",
              "      <th>akkusativ singular</th>\n",
              "      <th>akkusativ singular*</th>\n",
              "      <th>akkusativ singular 1</th>\n",
              "      <th>akkusativ singular 2</th>\n",
              "      <th>akkusativ singular 3</th>\n",
              "      <th>akkusativ singular 4</th>\n",
              "      <th>akkusativ singular stark</th>\n",
              "      <th>akkusativ singular schwach</th>\n",
              "      <th>akkusativ singular gemischt</th>\n",
              "      <th>akkusativ plural</th>\n",
              "      <th>akkusativ plural*</th>\n",
              "      <th>akkusativ plural 1</th>\n",
              "      <th>akkusativ plural 2</th>\n",
              "      <th>akkusativ plural 3</th>\n",
              "      <th>akkusativ plural 4</th>\n",
              "      <th>akkusativ plural stark</th>\n",
              "      <th>akkusativ plural schwach</th>\n",
              "      <th>akkusativ plural gemischt</th>\n",
              "    </tr>\n",
              "  </thead>\n",
              "  <tbody>\n",
              "    <tr>\n",
              "      <th>57515</th>\n",
              "      <td>Pendlerzug</td>\n",
              "      <td>Substantiv</td>\n",
              "      <td>m</td>\n",
              "      <td>NaN</td>\n",
              "      <td>NaN</td>\n",
              "      <td>NaN</td>\n",
              "      <td>NaN</td>\n",
              "      <td>Pendlerzug</td>\n",
              "      <td>NaN</td>\n",
              "      <td>NaN</td>\n",
              "      <td>NaN</td>\n",
              "      <td>NaN</td>\n",
              "      <td>NaN</td>\n",
              "      <td>NaN</td>\n",
              "      <td>NaN</td>\n",
              "      <td>NaN</td>\n",
              "      <td>Pendlerzüge</td>\n",
              "      <td>NaN</td>\n",
              "      <td>NaN</td>\n",
              "      <td>NaN</td>\n",
              "      <td>NaN</td>\n",
              "      <td>NaN</td>\n",
              "      <td>NaN</td>\n",
              "      <td>NaN</td>\n",
              "      <td>NaN</td>\n",
              "      <td>Pendlerzuges</td>\n",
              "      <td>Pendlerzugs</td>\n",
              "      <td>NaN</td>\n",
              "      <td>NaN</td>\n",
              "      <td>NaN</td>\n",
              "      <td>NaN</td>\n",
              "      <td>NaN</td>\n",
              "      <td>NaN</td>\n",
              "      <td>NaN</td>\n",
              "      <td>Pendlerzüge</td>\n",
              "      <td>NaN</td>\n",
              "      <td>NaN</td>\n",
              "      <td>NaN</td>\n",
              "      <td>NaN</td>\n",
              "      <td>NaN</td>\n",
              "      <td>NaN</td>\n",
              "      <td>NaN</td>\n",
              "      <td>NaN</td>\n",
              "      <td>Pendlerzug</td>\n",
              "      <td>Pendlerzuge</td>\n",
              "      <td>NaN</td>\n",
              "      <td>NaN</td>\n",
              "      <td>NaN</td>\n",
              "      <td>NaN</td>\n",
              "      <td>NaN</td>\n",
              "      <td>NaN</td>\n",
              "      <td>NaN</td>\n",
              "      <td>Pendlerzügen</td>\n",
              "      <td>NaN</td>\n",
              "      <td>NaN</td>\n",
              "      <td>NaN</td>\n",
              "      <td>NaN</td>\n",
              "      <td>NaN</td>\n",
              "      <td>NaN</td>\n",
              "      <td>NaN</td>\n",
              "      <td>NaN</td>\n",
              "      <td>Pendlerzug</td>\n",
              "      <td>NaN</td>\n",
              "      <td>NaN</td>\n",
              "      <td>NaN</td>\n",
              "      <td>NaN</td>\n",
              "      <td>NaN</td>\n",
              "      <td>NaN</td>\n",
              "      <td>NaN</td>\n",
              "      <td>NaN</td>\n",
              "      <td>Pendlerzüge</td>\n",
              "      <td>NaN</td>\n",
              "      <td>NaN</td>\n",
              "      <td>NaN</td>\n",
              "      <td>NaN</td>\n",
              "      <td>NaN</td>\n",
              "      <td>NaN</td>\n",
              "      <td>NaN</td>\n",
              "      <td>NaN</td>\n",
              "    </tr>\n",
              "    <tr>\n",
              "      <th>85044</th>\n",
              "      <td>Wermut</td>\n",
              "      <td>Substantiv</td>\n",
              "      <td>m</td>\n",
              "      <td>NaN</td>\n",
              "      <td>NaN</td>\n",
              "      <td>NaN</td>\n",
              "      <td>NaN</td>\n",
              "      <td>Wermut</td>\n",
              "      <td>NaN</td>\n",
              "      <td>NaN</td>\n",
              "      <td>NaN</td>\n",
              "      <td>NaN</td>\n",
              "      <td>NaN</td>\n",
              "      <td>NaN</td>\n",
              "      <td>NaN</td>\n",
              "      <td>NaN</td>\n",
              "      <td>Wermuts</td>\n",
              "      <td>NaN</td>\n",
              "      <td>NaN</td>\n",
              "      <td>NaN</td>\n",
              "      <td>NaN</td>\n",
              "      <td>NaN</td>\n",
              "      <td>NaN</td>\n",
              "      <td>NaN</td>\n",
              "      <td>NaN</td>\n",
              "      <td>Wermuts</td>\n",
              "      <td>Wermutes</td>\n",
              "      <td>NaN</td>\n",
              "      <td>NaN</td>\n",
              "      <td>NaN</td>\n",
              "      <td>NaN</td>\n",
              "      <td>NaN</td>\n",
              "      <td>NaN</td>\n",
              "      <td>NaN</td>\n",
              "      <td>Wermuts</td>\n",
              "      <td>NaN</td>\n",
              "      <td>NaN</td>\n",
              "      <td>NaN</td>\n",
              "      <td>NaN</td>\n",
              "      <td>NaN</td>\n",
              "      <td>NaN</td>\n",
              "      <td>NaN</td>\n",
              "      <td>NaN</td>\n",
              "      <td>Wermut</td>\n",
              "      <td>NaN</td>\n",
              "      <td>NaN</td>\n",
              "      <td>NaN</td>\n",
              "      <td>NaN</td>\n",
              "      <td>NaN</td>\n",
              "      <td>NaN</td>\n",
              "      <td>NaN</td>\n",
              "      <td>NaN</td>\n",
              "      <td>Wermuts</td>\n",
              "      <td>NaN</td>\n",
              "      <td>NaN</td>\n",
              "      <td>NaN</td>\n",
              "      <td>NaN</td>\n",
              "      <td>NaN</td>\n",
              "      <td>NaN</td>\n",
              "      <td>NaN</td>\n",
              "      <td>NaN</td>\n",
              "      <td>Wermut</td>\n",
              "      <td>NaN</td>\n",
              "      <td>NaN</td>\n",
              "      <td>NaN</td>\n",
              "      <td>NaN</td>\n",
              "      <td>NaN</td>\n",
              "      <td>NaN</td>\n",
              "      <td>NaN</td>\n",
              "      <td>NaN</td>\n",
              "      <td>Wermuts</td>\n",
              "      <td>NaN</td>\n",
              "      <td>NaN</td>\n",
              "      <td>NaN</td>\n",
              "      <td>NaN</td>\n",
              "      <td>NaN</td>\n",
              "      <td>NaN</td>\n",
              "      <td>NaN</td>\n",
              "      <td>NaN</td>\n",
              "    </tr>\n",
              "    <tr>\n",
              "      <th>13088</th>\n",
              "      <td>Bundesversammlung</td>\n",
              "      <td>Substantiv</td>\n",
              "      <td>f</td>\n",
              "      <td>NaN</td>\n",
              "      <td>NaN</td>\n",
              "      <td>NaN</td>\n",
              "      <td>NaN</td>\n",
              "      <td>Bundesversammlung</td>\n",
              "      <td>NaN</td>\n",
              "      <td>NaN</td>\n",
              "      <td>NaN</td>\n",
              "      <td>NaN</td>\n",
              "      <td>NaN</td>\n",
              "      <td>NaN</td>\n",
              "      <td>NaN</td>\n",
              "      <td>NaN</td>\n",
              "      <td>Bundesversammlungen</td>\n",
              "      <td>NaN</td>\n",
              "      <td>NaN</td>\n",
              "      <td>NaN</td>\n",
              "      <td>NaN</td>\n",
              "      <td>NaN</td>\n",
              "      <td>NaN</td>\n",
              "      <td>NaN</td>\n",
              "      <td>NaN</td>\n",
              "      <td>Bundesversammlung</td>\n",
              "      <td>NaN</td>\n",
              "      <td>NaN</td>\n",
              "      <td>NaN</td>\n",
              "      <td>NaN</td>\n",
              "      <td>NaN</td>\n",
              "      <td>NaN</td>\n",
              "      <td>NaN</td>\n",
              "      <td>NaN</td>\n",
              "      <td>Bundesversammlungen</td>\n",
              "      <td>NaN</td>\n",
              "      <td>NaN</td>\n",
              "      <td>NaN</td>\n",
              "      <td>NaN</td>\n",
              "      <td>NaN</td>\n",
              "      <td>NaN</td>\n",
              "      <td>NaN</td>\n",
              "      <td>NaN</td>\n",
              "      <td>Bundesversammlung</td>\n",
              "      <td>NaN</td>\n",
              "      <td>NaN</td>\n",
              "      <td>NaN</td>\n",
              "      <td>NaN</td>\n",
              "      <td>NaN</td>\n",
              "      <td>NaN</td>\n",
              "      <td>NaN</td>\n",
              "      <td>NaN</td>\n",
              "      <td>Bundesversammlungen</td>\n",
              "      <td>NaN</td>\n",
              "      <td>NaN</td>\n",
              "      <td>NaN</td>\n",
              "      <td>NaN</td>\n",
              "      <td>NaN</td>\n",
              "      <td>NaN</td>\n",
              "      <td>NaN</td>\n",
              "      <td>NaN</td>\n",
              "      <td>Bundesversammlung</td>\n",
              "      <td>NaN</td>\n",
              "      <td>NaN</td>\n",
              "      <td>NaN</td>\n",
              "      <td>NaN</td>\n",
              "      <td>NaN</td>\n",
              "      <td>NaN</td>\n",
              "      <td>NaN</td>\n",
              "      <td>NaN</td>\n",
              "      <td>Bundesversammlungen</td>\n",
              "      <td>NaN</td>\n",
              "      <td>NaN</td>\n",
              "      <td>NaN</td>\n",
              "      <td>NaN</td>\n",
              "      <td>NaN</td>\n",
              "      <td>NaN</td>\n",
              "      <td>NaN</td>\n",
              "      <td>NaN</td>\n",
              "    </tr>\n",
              "    <tr>\n",
              "      <th>88067</th>\n",
              "      <td>Zitierung</td>\n",
              "      <td>Substantiv</td>\n",
              "      <td>f</td>\n",
              "      <td>NaN</td>\n",
              "      <td>NaN</td>\n",
              "      <td>NaN</td>\n",
              "      <td>NaN</td>\n",
              "      <td>Zitierung</td>\n",
              "      <td>NaN</td>\n",
              "      <td>NaN</td>\n",
              "      <td>NaN</td>\n",
              "      <td>NaN</td>\n",
              "      <td>NaN</td>\n",
              "      <td>NaN</td>\n",
              "      <td>NaN</td>\n",
              "      <td>NaN</td>\n",
              "      <td>Zitierungen</td>\n",
              "      <td>NaN</td>\n",
              "      <td>NaN</td>\n",
              "      <td>NaN</td>\n",
              "      <td>NaN</td>\n",
              "      <td>NaN</td>\n",
              "      <td>NaN</td>\n",
              "      <td>NaN</td>\n",
              "      <td>NaN</td>\n",
              "      <td>Zitierung</td>\n",
              "      <td>NaN</td>\n",
              "      <td>NaN</td>\n",
              "      <td>NaN</td>\n",
              "      <td>NaN</td>\n",
              "      <td>NaN</td>\n",
              "      <td>NaN</td>\n",
              "      <td>NaN</td>\n",
              "      <td>NaN</td>\n",
              "      <td>Zitierungen</td>\n",
              "      <td>NaN</td>\n",
              "      <td>NaN</td>\n",
              "      <td>NaN</td>\n",
              "      <td>NaN</td>\n",
              "      <td>NaN</td>\n",
              "      <td>NaN</td>\n",
              "      <td>NaN</td>\n",
              "      <td>NaN</td>\n",
              "      <td>Zitierung</td>\n",
              "      <td>NaN</td>\n",
              "      <td>NaN</td>\n",
              "      <td>NaN</td>\n",
              "      <td>NaN</td>\n",
              "      <td>NaN</td>\n",
              "      <td>NaN</td>\n",
              "      <td>NaN</td>\n",
              "      <td>NaN</td>\n",
              "      <td>Zitierungen</td>\n",
              "      <td>NaN</td>\n",
              "      <td>NaN</td>\n",
              "      <td>NaN</td>\n",
              "      <td>NaN</td>\n",
              "      <td>NaN</td>\n",
              "      <td>NaN</td>\n",
              "      <td>NaN</td>\n",
              "      <td>NaN</td>\n",
              "      <td>Zitierung</td>\n",
              "      <td>NaN</td>\n",
              "      <td>NaN</td>\n",
              "      <td>NaN</td>\n",
              "      <td>NaN</td>\n",
              "      <td>NaN</td>\n",
              "      <td>NaN</td>\n",
              "      <td>NaN</td>\n",
              "      <td>NaN</td>\n",
              "      <td>Zitierungen</td>\n",
              "      <td>NaN</td>\n",
              "      <td>NaN</td>\n",
              "      <td>NaN</td>\n",
              "      <td>NaN</td>\n",
              "      <td>NaN</td>\n",
              "      <td>NaN</td>\n",
              "      <td>NaN</td>\n",
              "      <td>NaN</td>\n",
              "    </tr>\n",
              "    <tr>\n",
              "      <th>77349</th>\n",
              "      <td>Thorn</td>\n",
              "      <td>Substantiv</td>\n",
              "      <td>n</td>\n",
              "      <td>NaN</td>\n",
              "      <td>NaN</td>\n",
              "      <td>NaN</td>\n",
              "      <td>NaN</td>\n",
              "      <td>Thorn</td>\n",
              "      <td>NaN</td>\n",
              "      <td>NaN</td>\n",
              "      <td>NaN</td>\n",
              "      <td>NaN</td>\n",
              "      <td>NaN</td>\n",
              "      <td>NaN</td>\n",
              "      <td>NaN</td>\n",
              "      <td>NaN</td>\n",
              "      <td>Thorns</td>\n",
              "      <td>NaN</td>\n",
              "      <td>NaN</td>\n",
              "      <td>NaN</td>\n",
              "      <td>NaN</td>\n",
              "      <td>NaN</td>\n",
              "      <td>NaN</td>\n",
              "      <td>NaN</td>\n",
              "      <td>NaN</td>\n",
              "      <td>Thorns</td>\n",
              "      <td>NaN</td>\n",
              "      <td>NaN</td>\n",
              "      <td>NaN</td>\n",
              "      <td>NaN</td>\n",
              "      <td>NaN</td>\n",
              "      <td>NaN</td>\n",
              "      <td>NaN</td>\n",
              "      <td>NaN</td>\n",
              "      <td>Thorns</td>\n",
              "      <td>NaN</td>\n",
              "      <td>NaN</td>\n",
              "      <td>NaN</td>\n",
              "      <td>NaN</td>\n",
              "      <td>NaN</td>\n",
              "      <td>NaN</td>\n",
              "      <td>NaN</td>\n",
              "      <td>NaN</td>\n",
              "      <td>Thorn</td>\n",
              "      <td>NaN</td>\n",
              "      <td>NaN</td>\n",
              "      <td>NaN</td>\n",
              "      <td>NaN</td>\n",
              "      <td>NaN</td>\n",
              "      <td>NaN</td>\n",
              "      <td>NaN</td>\n",
              "      <td>NaN</td>\n",
              "      <td>Thorns</td>\n",
              "      <td>NaN</td>\n",
              "      <td>NaN</td>\n",
              "      <td>NaN</td>\n",
              "      <td>NaN</td>\n",
              "      <td>NaN</td>\n",
              "      <td>NaN</td>\n",
              "      <td>NaN</td>\n",
              "      <td>NaN</td>\n",
              "      <td>Thorn</td>\n",
              "      <td>NaN</td>\n",
              "      <td>NaN</td>\n",
              "      <td>NaN</td>\n",
              "      <td>NaN</td>\n",
              "      <td>NaN</td>\n",
              "      <td>NaN</td>\n",
              "      <td>NaN</td>\n",
              "      <td>NaN</td>\n",
              "      <td>Thorns</td>\n",
              "      <td>NaN</td>\n",
              "      <td>NaN</td>\n",
              "      <td>NaN</td>\n",
              "      <td>NaN</td>\n",
              "      <td>NaN</td>\n",
              "      <td>NaN</td>\n",
              "      <td>NaN</td>\n",
              "      <td>NaN</td>\n",
              "    </tr>\n",
              "    <tr>\n",
              "      <th>5766</th>\n",
              "      <td>Atrazin</td>\n",
              "      <td>Substantiv</td>\n",
              "      <td>n</td>\n",
              "      <td>NaN</td>\n",
              "      <td>NaN</td>\n",
              "      <td>NaN</td>\n",
              "      <td>NaN</td>\n",
              "      <td>Atrazin</td>\n",
              "      <td>NaN</td>\n",
              "      <td>NaN</td>\n",
              "      <td>NaN</td>\n",
              "      <td>NaN</td>\n",
              "      <td>NaN</td>\n",
              "      <td>NaN</td>\n",
              "      <td>NaN</td>\n",
              "      <td>NaN</td>\n",
              "      <td>Atrazine</td>\n",
              "      <td>NaN</td>\n",
              "      <td>NaN</td>\n",
              "      <td>NaN</td>\n",
              "      <td>NaN</td>\n",
              "      <td>NaN</td>\n",
              "      <td>NaN</td>\n",
              "      <td>NaN</td>\n",
              "      <td>NaN</td>\n",
              "      <td>Atrazins</td>\n",
              "      <td>NaN</td>\n",
              "      <td>NaN</td>\n",
              "      <td>NaN</td>\n",
              "      <td>NaN</td>\n",
              "      <td>NaN</td>\n",
              "      <td>NaN</td>\n",
              "      <td>NaN</td>\n",
              "      <td>NaN</td>\n",
              "      <td>Atrazine</td>\n",
              "      <td>NaN</td>\n",
              "      <td>NaN</td>\n",
              "      <td>NaN</td>\n",
              "      <td>NaN</td>\n",
              "      <td>NaN</td>\n",
              "      <td>NaN</td>\n",
              "      <td>NaN</td>\n",
              "      <td>NaN</td>\n",
              "      <td>Atrazin</td>\n",
              "      <td>NaN</td>\n",
              "      <td>NaN</td>\n",
              "      <td>NaN</td>\n",
              "      <td>NaN</td>\n",
              "      <td>NaN</td>\n",
              "      <td>NaN</td>\n",
              "      <td>NaN</td>\n",
              "      <td>NaN</td>\n",
              "      <td>Atrazinen</td>\n",
              "      <td>NaN</td>\n",
              "      <td>NaN</td>\n",
              "      <td>NaN</td>\n",
              "      <td>NaN</td>\n",
              "      <td>NaN</td>\n",
              "      <td>NaN</td>\n",
              "      <td>NaN</td>\n",
              "      <td>NaN</td>\n",
              "      <td>Atrazin</td>\n",
              "      <td>NaN</td>\n",
              "      <td>NaN</td>\n",
              "      <td>NaN</td>\n",
              "      <td>NaN</td>\n",
              "      <td>NaN</td>\n",
              "      <td>NaN</td>\n",
              "      <td>NaN</td>\n",
              "      <td>NaN</td>\n",
              "      <td>Atrazine</td>\n",
              "      <td>NaN</td>\n",
              "      <td>NaN</td>\n",
              "      <td>NaN</td>\n",
              "      <td>NaN</td>\n",
              "      <td>NaN</td>\n",
              "      <td>NaN</td>\n",
              "      <td>NaN</td>\n",
              "      <td>NaN</td>\n",
              "    </tr>\n",
              "    <tr>\n",
              "      <th>24445</th>\n",
              "      <td>Flügelaltar</td>\n",
              "      <td>Substantiv</td>\n",
              "      <td>m</td>\n",
              "      <td>NaN</td>\n",
              "      <td>NaN</td>\n",
              "      <td>NaN</td>\n",
              "      <td>NaN</td>\n",
              "      <td>Flügelaltar</td>\n",
              "      <td>NaN</td>\n",
              "      <td>NaN</td>\n",
              "      <td>NaN</td>\n",
              "      <td>NaN</td>\n",
              "      <td>NaN</td>\n",
              "      <td>NaN</td>\n",
              "      <td>NaN</td>\n",
              "      <td>NaN</td>\n",
              "      <td>Flügelaltäre</td>\n",
              "      <td>NaN</td>\n",
              "      <td>NaN</td>\n",
              "      <td>NaN</td>\n",
              "      <td>NaN</td>\n",
              "      <td>NaN</td>\n",
              "      <td>NaN</td>\n",
              "      <td>NaN</td>\n",
              "      <td>NaN</td>\n",
              "      <td>Flügelaltares</td>\n",
              "      <td>Flügelaltars</td>\n",
              "      <td>NaN</td>\n",
              "      <td>NaN</td>\n",
              "      <td>NaN</td>\n",
              "      <td>NaN</td>\n",
              "      <td>NaN</td>\n",
              "      <td>NaN</td>\n",
              "      <td>NaN</td>\n",
              "      <td>Flügelaltäre</td>\n",
              "      <td>NaN</td>\n",
              "      <td>NaN</td>\n",
              "      <td>NaN</td>\n",
              "      <td>NaN</td>\n",
              "      <td>NaN</td>\n",
              "      <td>NaN</td>\n",
              "      <td>NaN</td>\n",
              "      <td>NaN</td>\n",
              "      <td>Flügelaltar</td>\n",
              "      <td>Flügelaltare</td>\n",
              "      <td>NaN</td>\n",
              "      <td>NaN</td>\n",
              "      <td>NaN</td>\n",
              "      <td>NaN</td>\n",
              "      <td>NaN</td>\n",
              "      <td>NaN</td>\n",
              "      <td>NaN</td>\n",
              "      <td>Flügelaltären</td>\n",
              "      <td>NaN</td>\n",
              "      <td>NaN</td>\n",
              "      <td>NaN</td>\n",
              "      <td>NaN</td>\n",
              "      <td>NaN</td>\n",
              "      <td>NaN</td>\n",
              "      <td>NaN</td>\n",
              "      <td>NaN</td>\n",
              "      <td>Flügelaltar</td>\n",
              "      <td>NaN</td>\n",
              "      <td>NaN</td>\n",
              "      <td>NaN</td>\n",
              "      <td>NaN</td>\n",
              "      <td>NaN</td>\n",
              "      <td>NaN</td>\n",
              "      <td>NaN</td>\n",
              "      <td>NaN</td>\n",
              "      <td>Flügelaltäre</td>\n",
              "      <td>NaN</td>\n",
              "      <td>NaN</td>\n",
              "      <td>NaN</td>\n",
              "      <td>NaN</td>\n",
              "      <td>NaN</td>\n",
              "      <td>NaN</td>\n",
              "      <td>NaN</td>\n",
              "      <td>NaN</td>\n",
              "    </tr>\n",
              "    <tr>\n",
              "      <th>85857</th>\n",
              "      <td>Wirtschaftsgeschichte</td>\n",
              "      <td>Substantiv</td>\n",
              "      <td>f</td>\n",
              "      <td>NaN</td>\n",
              "      <td>NaN</td>\n",
              "      <td>NaN</td>\n",
              "      <td>NaN</td>\n",
              "      <td>Wirtschaftsgeschichte</td>\n",
              "      <td>NaN</td>\n",
              "      <td>NaN</td>\n",
              "      <td>NaN</td>\n",
              "      <td>NaN</td>\n",
              "      <td>NaN</td>\n",
              "      <td>NaN</td>\n",
              "      <td>NaN</td>\n",
              "      <td>NaN</td>\n",
              "      <td>Wirtschaftsgeschichten</td>\n",
              "      <td>NaN</td>\n",
              "      <td>NaN</td>\n",
              "      <td>NaN</td>\n",
              "      <td>NaN</td>\n",
              "      <td>NaN</td>\n",
              "      <td>NaN</td>\n",
              "      <td>NaN</td>\n",
              "      <td>NaN</td>\n",
              "      <td>Wirtschaftsgeschichte</td>\n",
              "      <td>NaN</td>\n",
              "      <td>NaN</td>\n",
              "      <td>NaN</td>\n",
              "      <td>NaN</td>\n",
              "      <td>NaN</td>\n",
              "      <td>NaN</td>\n",
              "      <td>NaN</td>\n",
              "      <td>NaN</td>\n",
              "      <td>Wirtschaftsgeschichten</td>\n",
              "      <td>NaN</td>\n",
              "      <td>NaN</td>\n",
              "      <td>NaN</td>\n",
              "      <td>NaN</td>\n",
              "      <td>NaN</td>\n",
              "      <td>NaN</td>\n",
              "      <td>NaN</td>\n",
              "      <td>NaN</td>\n",
              "      <td>Wirtschaftsgeschichte</td>\n",
              "      <td>NaN</td>\n",
              "      <td>NaN</td>\n",
              "      <td>NaN</td>\n",
              "      <td>NaN</td>\n",
              "      <td>NaN</td>\n",
              "      <td>NaN</td>\n",
              "      <td>NaN</td>\n",
              "      <td>NaN</td>\n",
              "      <td>Wirtschaftsgeschichten</td>\n",
              "      <td>NaN</td>\n",
              "      <td>NaN</td>\n",
              "      <td>NaN</td>\n",
              "      <td>NaN</td>\n",
              "      <td>NaN</td>\n",
              "      <td>NaN</td>\n",
              "      <td>NaN</td>\n",
              "      <td>NaN</td>\n",
              "      <td>Wirtschaftsgeschichte</td>\n",
              "      <td>NaN</td>\n",
              "      <td>NaN</td>\n",
              "      <td>NaN</td>\n",
              "      <td>NaN</td>\n",
              "      <td>NaN</td>\n",
              "      <td>NaN</td>\n",
              "      <td>NaN</td>\n",
              "      <td>NaN</td>\n",
              "      <td>Wirtschaftsgeschichten</td>\n",
              "      <td>NaN</td>\n",
              "      <td>NaN</td>\n",
              "      <td>NaN</td>\n",
              "      <td>NaN</td>\n",
              "      <td>NaN</td>\n",
              "      <td>NaN</td>\n",
              "      <td>NaN</td>\n",
              "      <td>NaN</td>\n",
              "    </tr>\n",
              "    <tr>\n",
              "      <th>24739</th>\n",
              "      <td>Fracht</td>\n",
              "      <td>Substantiv</td>\n",
              "      <td>f</td>\n",
              "      <td>NaN</td>\n",
              "      <td>NaN</td>\n",
              "      <td>NaN</td>\n",
              "      <td>NaN</td>\n",
              "      <td>Fracht</td>\n",
              "      <td>NaN</td>\n",
              "      <td>NaN</td>\n",
              "      <td>NaN</td>\n",
              "      <td>NaN</td>\n",
              "      <td>NaN</td>\n",
              "      <td>NaN</td>\n",
              "      <td>NaN</td>\n",
              "      <td>NaN</td>\n",
              "      <td>Frachten</td>\n",
              "      <td>NaN</td>\n",
              "      <td>NaN</td>\n",
              "      <td>NaN</td>\n",
              "      <td>NaN</td>\n",
              "      <td>NaN</td>\n",
              "      <td>NaN</td>\n",
              "      <td>NaN</td>\n",
              "      <td>NaN</td>\n",
              "      <td>Fracht</td>\n",
              "      <td>NaN</td>\n",
              "      <td>NaN</td>\n",
              "      <td>NaN</td>\n",
              "      <td>NaN</td>\n",
              "      <td>NaN</td>\n",
              "      <td>NaN</td>\n",
              "      <td>NaN</td>\n",
              "      <td>NaN</td>\n",
              "      <td>Frachten</td>\n",
              "      <td>NaN</td>\n",
              "      <td>NaN</td>\n",
              "      <td>NaN</td>\n",
              "      <td>NaN</td>\n",
              "      <td>NaN</td>\n",
              "      <td>NaN</td>\n",
              "      <td>NaN</td>\n",
              "      <td>NaN</td>\n",
              "      <td>Fracht</td>\n",
              "      <td>NaN</td>\n",
              "      <td>NaN</td>\n",
              "      <td>NaN</td>\n",
              "      <td>NaN</td>\n",
              "      <td>NaN</td>\n",
              "      <td>NaN</td>\n",
              "      <td>NaN</td>\n",
              "      <td>NaN</td>\n",
              "      <td>Frachten</td>\n",
              "      <td>NaN</td>\n",
              "      <td>NaN</td>\n",
              "      <td>NaN</td>\n",
              "      <td>NaN</td>\n",
              "      <td>NaN</td>\n",
              "      <td>NaN</td>\n",
              "      <td>NaN</td>\n",
              "      <td>NaN</td>\n",
              "      <td>Fracht</td>\n",
              "      <td>NaN</td>\n",
              "      <td>NaN</td>\n",
              "      <td>NaN</td>\n",
              "      <td>NaN</td>\n",
              "      <td>NaN</td>\n",
              "      <td>NaN</td>\n",
              "      <td>NaN</td>\n",
              "      <td>NaN</td>\n",
              "      <td>Frachten</td>\n",
              "      <td>NaN</td>\n",
              "      <td>NaN</td>\n",
              "      <td>NaN</td>\n",
              "      <td>NaN</td>\n",
              "      <td>NaN</td>\n",
              "      <td>NaN</td>\n",
              "      <td>NaN</td>\n",
              "      <td>NaN</td>\n",
              "    </tr>\n",
              "    <tr>\n",
              "      <th>43761</th>\n",
              "      <td>Kymographie</td>\n",
              "      <td>Substantiv</td>\n",
              "      <td>f</td>\n",
              "      <td>NaN</td>\n",
              "      <td>NaN</td>\n",
              "      <td>NaN</td>\n",
              "      <td>NaN</td>\n",
              "      <td>Kymographie</td>\n",
              "      <td>NaN</td>\n",
              "      <td>NaN</td>\n",
              "      <td>NaN</td>\n",
              "      <td>NaN</td>\n",
              "      <td>NaN</td>\n",
              "      <td>NaN</td>\n",
              "      <td>NaN</td>\n",
              "      <td>NaN</td>\n",
              "      <td>NaN</td>\n",
              "      <td>NaN</td>\n",
              "      <td>NaN</td>\n",
              "      <td>NaN</td>\n",
              "      <td>NaN</td>\n",
              "      <td>NaN</td>\n",
              "      <td>NaN</td>\n",
              "      <td>NaN</td>\n",
              "      <td>NaN</td>\n",
              "      <td>Kymographie</td>\n",
              "      <td>NaN</td>\n",
              "      <td>NaN</td>\n",
              "      <td>NaN</td>\n",
              "      <td>NaN</td>\n",
              "      <td>NaN</td>\n",
              "      <td>NaN</td>\n",
              "      <td>NaN</td>\n",
              "      <td>NaN</td>\n",
              "      <td>NaN</td>\n",
              "      <td>NaN</td>\n",
              "      <td>NaN</td>\n",
              "      <td>NaN</td>\n",
              "      <td>NaN</td>\n",
              "      <td>NaN</td>\n",
              "      <td>NaN</td>\n",
              "      <td>NaN</td>\n",
              "      <td>NaN</td>\n",
              "      <td>Kymographie</td>\n",
              "      <td>NaN</td>\n",
              "      <td>NaN</td>\n",
              "      <td>NaN</td>\n",
              "      <td>NaN</td>\n",
              "      <td>NaN</td>\n",
              "      <td>NaN</td>\n",
              "      <td>NaN</td>\n",
              "      <td>NaN</td>\n",
              "      <td>NaN</td>\n",
              "      <td>NaN</td>\n",
              "      <td>NaN</td>\n",
              "      <td>NaN</td>\n",
              "      <td>NaN</td>\n",
              "      <td>NaN</td>\n",
              "      <td>NaN</td>\n",
              "      <td>NaN</td>\n",
              "      <td>NaN</td>\n",
              "      <td>Kymographie</td>\n",
              "      <td>NaN</td>\n",
              "      <td>NaN</td>\n",
              "      <td>NaN</td>\n",
              "      <td>NaN</td>\n",
              "      <td>NaN</td>\n",
              "      <td>NaN</td>\n",
              "      <td>NaN</td>\n",
              "      <td>NaN</td>\n",
              "      <td>NaN</td>\n",
              "      <td>NaN</td>\n",
              "      <td>NaN</td>\n",
              "      <td>NaN</td>\n",
              "      <td>NaN</td>\n",
              "      <td>NaN</td>\n",
              "      <td>NaN</td>\n",
              "      <td>NaN</td>\n",
              "      <td>NaN</td>\n",
              "    </tr>\n",
              "  </tbody>\n",
              "</table>\n",
              "</div>"
            ],
            "text/plain": [
              "                       lemma  ... akkusativ plural gemischt\n",
              "57515             Pendlerzug  ...                       NaN\n",
              "85044                 Wermut  ...                       NaN\n",
              "13088      Bundesversammlung  ...                       NaN\n",
              "88067              Zitierung  ...                       NaN\n",
              "77349                  Thorn  ...                       NaN\n",
              "5766                 Atrazin  ...                       NaN\n",
              "24445            Flügelaltar  ...                       NaN\n",
              "85857  Wirtschaftsgeschichte  ...                       NaN\n",
              "24739                 Fracht  ...                       NaN\n",
              "43761            Kymographie  ...                       NaN\n",
              "\n",
              "[10 rows x 79 columns]"
            ]
          },
          "metadata": {},
          "execution_count": 12
        }
      ]
    },
    {
      "cell_type": "markdown",
      "metadata": {
        "id": "EHic2DxmsqSh"
      },
      "source": [
        "Now we need to drop all rows without gender"
      ]
    },
    {
      "cell_type": "code",
      "metadata": {
        "colab": {
          "base_uri": "https://localhost:8080/",
          "height": 299
        },
        "id": "WAzcDiKmsjnr",
        "outputId": "57825738-f860-40b3-c978-40b4872a122a"
      },
      "source": [
        "df.genus.isna().value_counts(normalize=True).plot.bar()"
      ],
      "execution_count": 13,
      "outputs": [
        {
          "output_type": "execute_result",
          "data": {
            "text/plain": [
              "<matplotlib.axes._subplots.AxesSubplot at 0x7f18b8d80e90>"
            ]
          },
          "metadata": {},
          "execution_count": 13
        },
        {
          "output_type": "display_data",
          "data": {
            "image/png": "[encoded data removed]",
            "text/plain": [
              "<Figure size 432x288 with 1 Axes>"
            ]
          },
          "metadata": {
            "needs_background": "light"
          }
        }
      ]
    },
    {
      "cell_type": "code",
      "metadata": {
        "id": "9UkXYzpiszcM"
      },
      "source": [
        "df = df[df['genus'].notna()]"
      ],
      "execution_count": 14,
      "outputs": []
    },
    {
      "cell_type": "code",
      "metadata": {
        "colab": {
          "base_uri": "https://localhost:8080/"
        },
        "id": "MYKLZy2ctb5r",
        "outputId": "6ca04e27-6823-4b8b-e327-6e56c32423a2"
      },
      "source": [
        "df.shape"
      ],
      "execution_count": 15,
      "outputs": [
        {
          "output_type": "execute_result",
          "data": {
            "text/plain": [
              "(76716, 79)"
            ]
          },
          "metadata": {},
          "execution_count": 15
        }
      ]
    },
    {
      "cell_type": "markdown",
      "metadata": {
        "id": "bA1xRqyruFlS"
      },
      "source": [
        "We are interested only in 2 columns – lemma and genus. Let's drop all the others"
      ]
    },
    {
      "cell_type": "code",
      "metadata": {
        "id": "gWMkpoSrtk1C"
      },
      "source": [
        "df = df[['lemma', 'genus']]\n",
        "df['lemma'] = df['lemma'].str.lower()"
      ],
      "execution_count": 16,
      "outputs": []
    },
    {
      "cell_type": "code",
      "metadata": {
        "colab": {
          "base_uri": "https://localhost:8080/",
          "height": 363
        },
        "id": "PqrkFLz8uXVB",
        "outputId": "c09d30cd-7855-4ec5-c8e5-d505af817397"
      },
      "source": [
        "df.sample(10)"
      ],
      "execution_count": 17,
      "outputs": [
        {
          "output_type": "execute_result",
          "data": {
            "text/html": [
              "<div>\n",
              "<style scoped>\n",
              "    .dataframe tbody tr th:only-of-type {\n",
              "        vertical-align: middle;\n",
              "    }\n",
              "\n",
              "    .dataframe tbody tr th {\n",
              "        vertical-align: top;\n",
              "    }\n",
              "\n",
              "    .dataframe thead th {\n",
              "        text-align: right;\n",
              "    }\n",
              "</style>\n",
              "<table border=\"1\" class=\"dataframe\">\n",
              "  <thead>\n",
              "    <tr style=\"text-align: right;\">\n",
              "      <th></th>\n",
              "      <th>lemma</th>\n",
              "      <th>genus</th>\n",
              "    </tr>\n",
              "  </thead>\n",
              "  <tbody>\n",
              "    <tr>\n",
              "      <th>88889</th>\n",
              "      <td>zylinderblock</td>\n",
              "      <td>m</td>\n",
              "    </tr>\n",
              "    <tr>\n",
              "      <th>33484</th>\n",
              "      <td>hinduismus</td>\n",
              "      <td>m</td>\n",
              "    </tr>\n",
              "    <tr>\n",
              "      <th>21359</th>\n",
              "      <td>euler</td>\n",
              "      <td>m</td>\n",
              "    </tr>\n",
              "    <tr>\n",
              "      <th>79467</th>\n",
              "      <td>türkette</td>\n",
              "      <td>f</td>\n",
              "    </tr>\n",
              "    <tr>\n",
              "      <th>72368</th>\n",
              "      <td>sprachbarriere</td>\n",
              "      <td>f</td>\n",
              "    </tr>\n",
              "    <tr>\n",
              "      <th>44197</th>\n",
              "      <td>labialisierung</td>\n",
              "      <td>f</td>\n",
              "    </tr>\n",
              "    <tr>\n",
              "      <th>84043</th>\n",
              "      <td>wasserturbine</td>\n",
              "      <td>f</td>\n",
              "    </tr>\n",
              "    <tr>\n",
              "      <th>35995</th>\n",
              "      <td>ingrimm</td>\n",
              "      <td>m</td>\n",
              "    </tr>\n",
              "    <tr>\n",
              "      <th>44212</th>\n",
              "      <td>laborleiter</td>\n",
              "      <td>m</td>\n",
              "    </tr>\n",
              "    <tr>\n",
              "      <th>46059</th>\n",
              "      <td>liebesleben</td>\n",
              "      <td>n</td>\n",
              "    </tr>\n",
              "  </tbody>\n",
              "</table>\n",
              "</div>"
            ],
            "text/plain": [
              "                lemma genus\n",
              "88889   zylinderblock     m\n",
              "33484      hinduismus     m\n",
              "21359           euler     m\n",
              "79467        türkette     f\n",
              "72368  sprachbarriere     f\n",
              "44197  labialisierung     f\n",
              "84043   wasserturbine     f\n",
              "35995         ingrimm     m\n",
              "44212     laborleiter     m\n",
              "46059     liebesleben     n"
            ]
          },
          "metadata": {},
          "execution_count": 17
        }
      ]
    },
    {
      "cell_type": "markdown",
      "metadata": {
        "id": "Xh0NuPBHugX1"
      },
      "source": [
        "## Predicting word's gender based on most common endings\n",
        "\n",
        "According to [Wikipedia](https://en.wikipedia.org/wiki/Grammatical_gender_in_German) for some words it is easy to know grammatical gender based on ending of the word. Maybe we can avoid using neural networks? "
      ]
    },
    {
      "cell_type": "markdown",
      "metadata": {
        "id": "1QMCvk7K_Lnb"
      },
      "source": [
        "Let's see what is the accuracty of totally random classifier:"
      ]
    },
    {
      "cell_type": "code",
      "metadata": {
        "colab": {
          "base_uri": "https://localhost:8080/"
        },
        "id": "0ULzdRPp_KaF",
        "outputId": "135d7cd8-2376-4d51-c86c-f597381491b4"
      },
      "source": [
        "np.random.seed(23)\n",
        "rand_preds = np.random.choice(['f', 'n', 'm'], len(df))\n",
        "(df['genus'] == rand_preds).sum() / len(df) "
      ],
      "execution_count": 18,
      "outputs": [
        {
          "output_type": "execute_result",
          "data": {
            "text/plain": [
              "0.3327467542624746"
            ]
          },
          "metadata": {},
          "execution_count": 18
        }
      ]
    },
    {
      "cell_type": "code",
      "metadata": {
        "id": "rmHBarp1ucHt"
      },
      "source": [
        "endings = {'m':['ant', 'ast', 'ich', 'ig', 'ismus', 'ling', 'or', 'us'],\n",
        "           'f':['a', 'anz', 'ei', 'enz', 'heit', 'ie', 'ik', 'in', 'keit', \n",
        "             'schaft', 'sion', 'tät', 'tion', 'ung', 'ur'],\n",
        "           'n':['chen', 'lein', 'ma', 'ment', 'sel', 'tel', 'tum', 'um']}"
      ],
      "execution_count": 19,
      "outputs": []
    },
    {
      "cell_type": "code",
      "metadata": {
        "id": "d3gBVHSIx9DV"
      },
      "source": [
        "def ending_gender_clf(word):\n",
        "    for gender, ends in endings.items():\n",
        "        for end in ends:\n",
        "            if word.endswith(end):\n",
        "                return gender\n",
        "    return '-'"
      ],
      "execution_count": 20,
      "outputs": []
    },
    {
      "cell_type": "code",
      "metadata": {
        "colab": {
          "base_uri": "https://localhost:8080/"
        },
        "id": "5TfNicz7zOQc",
        "outputId": "facd7060-13ca-4960-a0d1-79e93a6836e5"
      },
      "source": [
        "ending_preds = df['lemma'].apply(ending_gender_clf)\n",
        "ending_preds.value_counts(normalize=True)"
      ],
      "execution_count": 21,
      "outputs": [
        {
          "output_type": "execute_result",
          "data": {
            "text/plain": [
              "-    0.692255\n",
              "f    0.236391\n",
              "n    0.036642\n",
              "m    0.034712\n",
              "Name: lemma, dtype: float64"
            ]
          },
          "metadata": {},
          "execution_count": 21
        }
      ]
    },
    {
      "cell_type": "code",
      "metadata": {
        "colab": {
          "base_uri": "https://localhost:8080/"
        },
        "id": "6HmFbdEU4J8b",
        "outputId": "dd51e308-bbff-4f4d-bcc2-90e9abaa2c49"
      },
      "source": [
        "(df[ending_preds != '-']['genus'] == ending_preds[ending_preds != '-']).sum() / len(ending_preds[ending_preds != '-'])"
      ],
      "execution_count": 22,
      "outputs": [
        {
          "output_type": "execute_result",
          "data": {
            "text/plain": [
              "0.8715320428650091"
            ]
          },
          "metadata": {},
          "execution_count": 22
        }
      ]
    },
    {
      "cell_type": "code",
      "metadata": {
        "colab": {
          "base_uri": "https://localhost:8080/"
        },
        "id": "76WEX09V2y5h",
        "outputId": "eea25ffa-5773-42fa-855e-25323dfe0eaf"
      },
      "source": [
        "(df['genus'] == ending_preds).sum() / len(df) "
      ],
      "execution_count": 23,
      "outputs": [
        {
          "output_type": "execute_result",
          "data": {
            "text/plain": [
              "0.26821002137754835"
            ]
          },
          "metadata": {},
          "execution_count": 23
        }
      ]
    },
    {
      "cell_type": "markdown",
      "metadata": {
        "id": "rAe9OrSS3TnQ"
      },
      "source": [
        "* Less than 30 % of words have common endings\n",
        "* For those 30 % we achieved 0.87 accuracy with naive endings classifier – not bad!\n",
        "* But total accuracy is only 26 % – even worse than random classifier!"
      ]
    },
    {
      "cell_type": "markdown",
      "metadata": {
        "id": "dkLr6Tc75P8g"
      },
      "source": [
        "In previous experiment we used only \"strong\" endings, i.e. endings for which very few counter-examples exist.\n",
        "\n",
        "Let's extend the list by including not so confident endings. The function 'ending_gender_clf' has a problem of assigning class based on first encountered ending. Howewer, in some cases there could be colisions, e.g. in case of weak (not 100 %) ending 't' and strong 'ant' – we should give priority to longer endings. Let's make a new dictionary, instead of 'gender':'endings list', we will use 'ending':'gender' pairs. "
      ]
    },
    {
      "cell_type": "code",
      "metadata": {
        "id": "RZ4DU2VP4fXP"
      },
      "source": [
        "# First let's simply extend the existing dict\n",
        "endings = {'m':['ant', 'ast', 'ich', 'ig', 'ismus', 'ling', 'or', 'us', 'el', \n",
        "                'er', 'en'],\n",
        "           'f':['a', 'anz', 'ei', 'enz', 'heit', 'ie', 'ik', 'in', 'keit', \n",
        "                'schaft', 'sion', 'tät', 'tion', 'ung', 'ur', 'e', 't'],\n",
        "           'n':['chen', 'lein', 'ma', 'ment', 'sel', 'tel', 'tum', 'um', 'nis',\n",
        "                'sal', 'al', 'an', 'ar', 'är', 'at', 'ent', 'ett', 'ier', 'iv',\n",
        "                'o', 'on']}\n",
        "\n",
        "end2gen = {end:gender for (gender, ends) in endings.items() for end in ends}"
      ],
      "execution_count": 24,
      "outputs": []
    },
    {
      "cell_type": "code",
      "metadata": {
        "id": "KvCUHepr8rZR"
      },
      "source": [
        "def endings_gender_clf(word):\n",
        "    for end in sorted(end2gen, key=len, reverse=True): # longest first\n",
        "        if word.endswith(end):\n",
        "                return end2gen[end]\n",
        "    return '-'"
      ],
      "execution_count": 25,
      "outputs": []
    },
    {
      "cell_type": "code",
      "metadata": {
        "colab": {
          "base_uri": "https://localhost:8080/"
        },
        "id": "HkdIBszI9xQJ",
        "outputId": "984ebc86-cfa6-4377-89b7-53cffe809739"
      },
      "source": [
        "ending_preds = df['lemma'].apply(endings_gender_clf)\n",
        "ending_preds.value_counts(normalize=True)"
      ],
      "execution_count": 26,
      "outputs": [
        {
          "output_type": "execute_result",
          "data": {
            "text/plain": [
              "f    0.483028\n",
              "-    0.231699\n",
              "m    0.187718\n",
              "n    0.097555\n",
              "Name: lemma, dtype: float64"
            ]
          },
          "metadata": {},
          "execution_count": 26
        }
      ]
    },
    {
      "cell_type": "code",
      "metadata": {
        "colab": {
          "base_uri": "https://localhost:8080/"
        },
        "id": "9XcHW4AN89Yn",
        "outputId": "dc9446e4-b128-4573-8fde-30c5cbc821b4"
      },
      "source": [
        "(df[ending_preds != '-']['genus'] == ending_preds[ending_preds != '-']).sum() / len(ending_preds[ending_preds != '-'])"
      ],
      "execution_count": 27,
      "outputs": [
        {
          "output_type": "execute_result",
          "data": {
            "text/plain": [
              "0.7491389694779526"
            ]
          },
          "metadata": {},
          "execution_count": 27
        }
      ]
    },
    {
      "cell_type": "code",
      "metadata": {
        "colab": {
          "base_uri": "https://localhost:8080/"
        },
        "id": "PimB4LQd89Ym",
        "outputId": "6b86efaf-7e1b-4a88-dbc7-481213b080b8"
      },
      "source": [
        "(df['genus'] == ending_preds).sum() / len(df) "
      ],
      "execution_count": 28,
      "outputs": [
        {
          "output_type": "execute_result",
          "data": {
            "text/plain": [
              "0.5755644194170707"
            ]
          },
          "metadata": {},
          "execution_count": 28
        }
      ]
    },
    {
      "cell_type": "markdown",
      "metadata": {
        "id": "zwfpIVna-Eo3"
      },
      "source": [
        "* Including \"weak\" ending allowed us to increase classified fraction of dictionary to 77 % (compared to previous 30 %)\n",
        "* For those 77 % words we achieved 74.9 % accuracy;\n",
        "* But total accuracy is already 57.5 % which is more than twice larger compared to previous results and better than random.\n",
        "\n",
        "Let's also predict random gender for words without an ending"
      ]
    },
    {
      "cell_type": "code",
      "metadata": {
        "id": "2bX0DSyOhVya"
      },
      "source": [
        "def gender_clf(word):\n",
        "    for end in sorted(end2gen, key=len, reverse=True):\n",
        "        if word.endswith(end):\n",
        "                return end2gen[end]\n",
        "    return np.random.choice(['f', 'n', 'm'], 1)[0]"
      ],
      "execution_count": 29,
      "outputs": []
    },
    {
      "cell_type": "code",
      "metadata": {
        "colab": {
          "base_uri": "https://localhost:8080/"
        },
        "id": "qxtB4_GwyLZo",
        "outputId": "3c248ee2-3cd2-42fd-bf73-7ed9b7d48323"
      },
      "source": [
        "ending_preds = df['lemma'].apply(gender_clf)\n",
        "ending_preds.value_counts(normalize=True)"
      ],
      "execution_count": 30,
      "outputs": [
        {
          "output_type": "execute_result",
          "data": {
            "text/plain": [
              "f    0.559961\n",
              "m    0.265877\n",
              "n    0.174162\n",
              "Name: lemma, dtype: float64"
            ]
          },
          "metadata": {},
          "execution_count": 30
        }
      ]
    },
    {
      "cell_type": "code",
      "metadata": {
        "colab": {
          "base_uri": "https://localhost:8080/"
        },
        "id": "cx7oShSJhcqq",
        "outputId": "72c43e32-7276-42e3-f9c5-63a0b076b015"
      },
      "source": [
        "(df['genus'] == ending_preds).sum() / len(df) "
      ],
      "execution_count": 31,
      "outputs": [
        {
          "output_type": "execute_result",
          "data": {
            "text/plain": [
              "0.6544136816309505"
            ]
          },
          "metadata": {},
          "execution_count": 31
        }
      ]
    },
    {
      "cell_type": "markdown",
      "metadata": {
        "id": "KU8gS042hdJ4"
      },
      "source": [
        "The total accuracy of our rule-based + random classifier gives quite good performance. We can try to increase the accuracy more by implementing several more heuristics, but let's stop on this for now and use this simple \"model\" as a baseline. We will try to beat it with RNN LSTM model."
      ]
    },
    {
      "cell_type": "markdown",
      "metadata": {
        "id": "EQCP3NrSAx15"
      },
      "source": [
        "# LSTM"
      ]
    },
    {
      "cell_type": "code",
      "metadata": {
        "id": "boJw54_H85w8"
      },
      "source": [
        "from sklearn.model_selection import train_test_split\n",
        "import torch\n",
        "import torch.nn as nn\n",
        "import torch.nn.functional as F\n",
        "import torch.optim as optim\n",
        "from torch.utils.data import Dataset, DataLoader, SubsetRandomSampler, random_split\n",
        "from torch.nn.utils.rnn import pad_sequence\n",
        "from torch.cuda import LongTensor\n",
        "\n",
        "device = torch.device(\"cuda:0\") # Let's make sure GPU is available!"
      ],
      "execution_count": 32,
      "outputs": []
    },
    {
      "cell_type": "markdown",
      "metadata": {
        "id": "bDiCNWlXqcd2"
      },
      "source": [
        "## Dataset preparation\n",
        "\n",
        "Let's create a torch Dataset sublclass for our dataset to easier data handling. Each word in the dictionary will be represented as a vector of indices from the \"alphabet\"."
      ]
    },
    {
      "cell_type": "code",
      "metadata": {
        "colab": {
          "base_uri": "https://localhost:8080/"
        },
        "id": "nSCyZ5eizSxR",
        "outputId": "daa718c5-e6ce-4c42-a9cf-094540e90dc8"
      },
      "source": [
        "class GermanNouns(Dataset):\n",
        "    def __init__(self, df):\n",
        "        \"\"\"\n",
        "        Parameters:\n",
        "        df – pandas 2-column dataframe: 1st col – words, 2nd col – gender (target)\n",
        "        \"\"\"\n",
        "        self.data = df.to_numpy()\n",
        "\n",
        "        self.letters = {letter for word in self.data[:, 0] for letter in word}\n",
        "        self.letter2ind = {letter: ind + 1 for ind, letter in enumerate(self.letters)}\n",
        "        self.letter2ind['<pad>'] = 0 # LSTM accept only inputs of the same len\n",
        "        self.ind2letter = {ind: letter for letter, ind in self.letter2ind.items()}\n",
        "\n",
        "\n",
        "        self.genders = {gender for gender in self.data[:, 1]} # target\n",
        "        self.gender2ind = {gender: ind for ind, gender in enumerate(self.genders)}\n",
        "\n",
        "        self.nouns = [[self.letter2ind.get(letter, 0) for letter in sample] \n",
        "                      for sample in self.data[:, 0]] # vector of indices\n",
        "        self.labels = [self.gender2ind[gender] for gender in self.data[:, 1]]\n",
        "\n",
        "    def __len__(self):\n",
        "        \"\"\"\n",
        "        return the number of word-vectors in the dataset\n",
        "        \"\"\"\n",
        "        return len(self.nouns)\n",
        "\n",
        "    def __getitem__(self, index):\n",
        "        \"\"\"\n",
        "        Returns a word-vector (vector of indices), class label (['f', 'n', 'm']),\n",
        "        and len of the word-vector (required for dataloader)\n",
        "        \"\"\"\n",
        "        word = self.nouns[index]\n",
        "        label = self.labels[index]\n",
        "        return torch.Tensor(word).long().cuda(), label, len(word)\n",
        "\n",
        "    def nums2word(self, numbers):\n",
        "        \"\"\"\n",
        "        Transforms a list of vocabulary numbers into initial word \n",
        "        \"\"\"\n",
        "        return ''.join(\n",
        "            [self.ind2letter[n] for n in numbers.tolist()]).replace('<pad>', '')\n",
        "\n",
        "dataset = GermanNouns(df)\n",
        "dataset[44622][0], dataset.nums2word(dataset[44622][0])"
      ],
      "execution_count": 34,
      "outputs": [
        {
          "output_type": "execute_result",
          "data": {
            "text/plain": [
              "(tensor([30, 27,  3, 20, 43, 57, 59, 48, 57], device='cuda:0'), 'nachteule')"
            ]
          },
          "metadata": {},
          "execution_count": 34
        }
      ]
    },
    {
      "cell_type": "code",
      "metadata": {
        "id": "lpza-SEqtQsM"
      },
      "source": [
        "data_size = len(dataset)\n",
        "train_fraction = 0.8\n",
        "test_fraction = 0.15\n",
        "batch_size=64\n",
        "\n",
        "train_split = int(np.floor((train_fraction) * data_size))\n",
        "test_split = int(np.floor(test_fraction * train_split))\n",
        "indices = list(range(data_size))\n",
        "np.random.seed(42)\n",
        "np.random.shuffle(indices)\n",
        "\n",
        "train_indices, test_indices, val_indices = (indices[test_split:train_split], \n",
        "                                            indices[:test_split],\n",
        "                                            indices[train_split:])\n",
        "\n",
        "assert len(train_indices) + len(test_indices) + len(val_indices) == len(dataset)\n",
        "\n",
        "train_sampler = SubsetRandomSampler(train_indices)\n",
        "val_sampler = SubsetRandomSampler(val_indices)\n",
        "test_sampler = SubsetRandomSampler(test_indices)"
      ],
      "execution_count": null,
      "outputs": []
    },
    {
      "cell_type": "code",
      "metadata": {
        "id": "gwE1Fp7tqUse"
      },
      "source": [
        "def my_collate(batch):\n",
        "    \"\"\"\n",
        "    This function is called by DataLoader to pad every input tensor \n",
        "    in the batch to the same len\n",
        "        batch: is a list of (tokens, label, length) tuples\n",
        "            where 'tokens' is a list of arbitrary len\n",
        "            and label/length are scalars\n",
        "    \"\"\"\n",
        "    tokens, labels, lengths = zip(*batch)\n",
        "    x = pad_sequence(tokens)\n",
        "    return x, labels\n",
        "\n",
        "\n",
        "train_loader = DataLoader(dataset, batch_size=batch_size, \n",
        "                                           sampler=train_sampler, \n",
        "                                           collate_fn=my_collate)\n",
        "\n",
        "val_loader = DataLoader(dataset, batch_size=batch_size*8,\n",
        "                                         sampler=val_sampler,\n",
        "                                         collate_fn=my_collate)\n",
        "\n",
        "test_loader = DataLoader(dataset, batch_size=batch_size, \n",
        "                                          sampler=test_sampler,\n",
        "                                          collate_fn=my_collate)"
      ],
      "execution_count": 35,
      "outputs": []
    },
    {
      "cell_type": "code",
      "metadata": {
        "colab": {
          "base_uri": "https://localhost:8080/",
          "height": 36
        },
        "id": "HB0gfcVj21b-",
        "outputId": "4ab8c3d9-eb10-48d1-c661-f710e787dc9a"
      },
      "source": [
        "X_batch, y_batch = next(iter(train_loader)) # Test of dataloader\n",
        "\n",
        "dataset.nums2word(X_batch[:, 0])"
      ],
      "execution_count": 37,
      "outputs": [
        {
          "output_type": "execute_result",
          "data": {
            "application/vnd.google.colaboratory.intrinsic+json": {
              "type": "string"
            },
            "text/plain": [
              "'ostberlinerin'"
            ]
          },
          "metadata": {},
          "execution_count": 37
        }
      ]
    },
    {
      "cell_type": "code",
      "metadata": {
        "id": "LN8pIk-JsvwG"
      },
      "source": [
        "class LSTMGender(nn.Module):\n",
        "    \"\"\"\n",
        "    LSTM RNN for prediction of grammatical gender based on the word itself\n",
        "    \"\"\"\n",
        "    def __init__(self, vocab_size, target_size, letter_emb_dim=64, lstm_hidden_dim=128, lstm_layers_count=1):\n",
        "        \"\"\"\n",
        "        Parameters:\n",
        "            vocab_size – size of the vocabulary (alphabet) for embedding layer\n",
        "            target_size – number of classes (3)\n",
        "            letter_emb_dim – output size of the word embeddings\n",
        "            lstm_hidden_dim, lstm_layers_count – parameters of LSTM layer\n",
        "        \"\"\"\n",
        "        super().__init__()\n",
        "        self.letter_embedding = nn.Embedding(vocab_size, letter_emb_dim)\n",
        "        self.lstm = nn.LSTM(input_size=letter_emb_dim, hidden_size=lstm_hidden_dim, \n",
        "                            num_layers=lstm_layers_count)\n",
        "        self.hidden2gender = nn.Linear(lstm_hidden_dim, target_size)\n",
        "\n",
        "    def forward(self, inputs):\n",
        "        embeds = self.letter_embedding(inputs)\n",
        "        output, _ = self.lstm(embeds)\n",
        "        gender_space = self.hidden2gender(output[-1, :, :])\n",
        "        return gender_space"
      ],
      "execution_count": 40,
      "outputs": []
    },
    {
      "cell_type": "code",
      "metadata": {
        "id": "72L5eEzA7WNl"
      },
      "source": [
        "import time\n",
        "\n",
        "def train_model(model, train_loader, val_loader, loss,\n",
        "                optimizer, num_epochs, scheduler=None):\n",
        "    \"\"\"\n",
        "    Training the model\n",
        "\n",
        "    Returns change of train loss, train and val accuracy on every epoch\n",
        "    \"\"\"\n",
        "    since = time.time()    \n",
        "    loss_history = []\n",
        "    train_history = []\n",
        "    val_history = []\n",
        "    for epoch in range(num_epochs):\n",
        "        model.train() # Enter train mode\n",
        "        \n",
        "        loss_accum = 0\n",
        "        correct_samples = 0\n",
        "        total_samples = 0\n",
        "        for i_step, (X_batch, y_batch) in enumerate(train_loader):\n",
        "          \n",
        "            X_batch = LongTensor(X_batch).to(device)\n",
        "            y_batch = LongTensor(y_batch).to(device)\n",
        "            prediction = model(X_batch)    \n",
        "            loss_value = loss(prediction, y_batch)\n",
        "            optimizer.zero_grad()\n",
        "            loss_value.backward()\n",
        "            optimizer.step()\n",
        "            \n",
        "            _, indices = torch.max(prediction, 1)\n",
        "            correct_samples += torch.sum(indices == y_batch)\n",
        "            total_samples += y_batch.shape[0]\n",
        "            \n",
        "            loss_accum += loss_value\n",
        "\n",
        "        ave_loss = loss_accum / i_step\n",
        "        train_accuracy = float(correct_samples) / total_samples\n",
        "        val_accuracy, _, _ = compute_accuracy(model, val_loader)\n",
        "        \n",
        "        loss_history.append(float(ave_loss))\n",
        "        train_history.append(train_accuracy)\n",
        "        val_history.append(val_accuracy)\n",
        "        if scheduler:\n",
        "            scheduler.step()\n",
        "\n",
        "        print(\"#%d:Average loss: %f, Train accuracy: %f, Val accuracy: %f\" % (\n",
        "            epoch, ave_loss, train_accuracy, val_accuracy))\n",
        "    \n",
        "    time_elapsed = time.time() - since\n",
        "    print('Training complete in {:.0f}m {:.0f}s'.format(time_elapsed // 60,\n",
        "                                                            time_elapsed % 60))\n",
        "        \n",
        "    return loss_history, train_history, val_history\n",
        "        \n",
        "def compute_accuracy(model, loader):\n",
        "    \"\"\"\n",
        "    Computes accuracy on the dataset wrapped in a loader\n",
        "    \n",
        "    Returns: accuracy as a float value between 0 and 1\n",
        "    \"\"\"\n",
        "    model.eval() # Evaluation mode\n",
        "    # TODO: Implement the inference of the model on all of the batches from loader,\n",
        "    #       and compute the overall accuracy.\n",
        "    # Hint: PyTorch has the argmax function!\n",
        "    correct = 0\n",
        "    total = 0\n",
        "    preds = []\n",
        "    trues = []\n",
        "    # since we're not training, we don't need to calculate the gradients for our outputs\n",
        "    with torch.no_grad():\n",
        "        for i_step, (X_batch, y_batch) in enumerate(loader):\n",
        "            X_batch = LongTensor(X_batch).to(device)\n",
        "            y_batch = LongTensor(y_batch).to(device)\n",
        "            # calculate outputs by running images through the network \n",
        "            outputs = model(X_batch)\n",
        "            # the class with the highest energy is what we choose as prediction\n",
        "            predicted = torch.argmax(outputs.data, 1)\n",
        "            preds.append(predicted)\n",
        "            trues.append(y_batch)\n",
        "            total += y_batch.size(0)\n",
        "            correct += (predicted == y_batch).sum().item()\n",
        "\n",
        "    accuracy = correct / total\n",
        "    return accuracy, preds, trues"
      ],
      "execution_count": 59,
      "outputs": []
    },
    {
      "cell_type": "code",
      "metadata": {
        "colab": {
          "base_uri": "https://localhost:8080/"
        },
        "id": "cdM_cD3zCNql",
        "outputId": "d1486949-4d04-4bfe-e0a5-4bf035f7d634"
      },
      "source": [
        "model = LSTMGender(\n",
        "    vocab_size=len(dataset.letter2ind),\n",
        "    target_size=len(dataset.gender2ind),\n",
        "    lstm_layers_count=1, \n",
        "    lstm_hidden_dim=80\n",
        ").to(device)\n",
        "\n",
        "criterion = nn.CrossEntropyLoss().to(device)\n",
        "optimizer = optim.Adam(model.parameters(), weight_decay=1E-5, lr=1E-2)\n",
        "scheduler = optim.lr_scheduler.StepLR(optimizer, \n",
        "                                  step_size=9, gamma=0.85)\n",
        "\n",
        "\n",
        "loss_history, train_history, val_history = train_model(model, train_loader, val_loader, criterion, optimizer, 50, scheduler=scheduler)"
      ],
      "execution_count": 42,
      "outputs": [
        {
          "output_type": "stream",
          "name": "stderr",
          "text": [
            "/usr/local/lib/python3.7/dist-packages/torch/nn/modules/rnn.py:65: UserWarning: dropout option adds dropout after all but last recurrent layer, so non-zero dropout expects num_layers greater than 1, but got dropout=0.3 and num_layers=1\n",
            "  \"num_layers={}\".format(dropout, num_layers))\n"
          ]
        },
        {
          "output_type": "stream",
          "name": "stdout",
          "text": [
            "#0:Average loss: 0.584578, Train accuracy: 0.759426, Val accuracy: 0.816280\n",
            "#1:Average loss: 0.421217, Train accuracy: 0.843004, Val accuracy: 0.848931\n",
            "#2:Average loss: 0.373482, Train accuracy: 0.864435, Val accuracy: 0.860467\n",
            "#3:Average loss: 0.351589, Train accuracy: 0.873637, Val accuracy: 0.864051\n",
            "#4:Average loss: 0.333846, Train accuracy: 0.880365, Val accuracy: 0.870438\n",
            "#5:Average loss: 0.319232, Train accuracy: 0.887170, Val accuracy: 0.879758\n",
            "#6:Average loss: 0.312688, Train accuracy: 0.889815, Val accuracy: 0.877086\n",
            "#7:Average loss: 0.304484, Train accuracy: 0.892806, Val accuracy: 0.883929\n",
            "#8:Average loss: 0.306410, Train accuracy: 0.891157, Val accuracy: 0.875196\n",
            "#9:Average loss: 0.286617, Train accuracy: 0.899266, Val accuracy: 0.890120\n",
            "#10:Average loss: 0.277477, Train accuracy: 0.902946, Val accuracy: 0.894747\n",
            "#11:Average loss: 0.268975, Train accuracy: 0.906454, Val accuracy: 0.892531\n",
            "#12:Average loss: 0.263788, Train accuracy: 0.906934, Val accuracy: 0.887578\n",
            "#13:Average loss: 0.262704, Train accuracy: 0.907662, Val accuracy: 0.893053\n",
            "#14:Average loss: 0.257300, Train accuracy: 0.909272, Val accuracy: 0.892857\n",
            "#15:Average loss: 0.249891, Train accuracy: 0.912339, Val accuracy: 0.898527\n",
            "#16:Average loss: 0.239838, Train accuracy: 0.916844, Val accuracy: 0.897224\n",
            "#17:Average loss: 0.244221, Train accuracy: 0.914525, Val accuracy: 0.901981\n",
            "#18:Average loss: 0.222146, Train accuracy: 0.922806, Val accuracy: 0.906348\n",
            "#19:Average loss: 0.213743, Train accuracy: 0.926429, Val accuracy: 0.899635\n",
            "#20:Average loss: 0.213868, Train accuracy: 0.925911, Val accuracy: 0.905240\n",
            "#21:Average loss: 0.206609, Train accuracy: 0.928844, Val accuracy: 0.904849\n",
            "#22:Average loss: 0.208152, Train accuracy: 0.928096, Val accuracy: 0.907977\n",
            "#23:Average loss: 0.207636, Train accuracy: 0.928307, Val accuracy: 0.905109\n",
            "#24:Average loss: 0.194734, Train accuracy: 0.933195, Val accuracy: 0.907912\n",
            "#25:Average loss: 0.190837, Train accuracy: 0.933560, Val accuracy: 0.908498\n",
            "#26:Average loss: 0.187156, Train accuracy: 0.934806, Val accuracy: 0.907716\n",
            "#27:Average loss: 0.167957, Train accuracy: 0.942607, Val accuracy: 0.912865\n",
            "#28:Average loss: 0.165519, Train accuracy: 0.943700, Val accuracy: 0.913452\n",
            "#29:Average loss: 0.163562, Train accuracy: 0.944294, Val accuracy: 0.908498\n",
            "#30:Average loss: 0.159049, Train accuracy: 0.945598, Val accuracy: 0.915081\n",
            "#31:Average loss: 0.155844, Train accuracy: 0.946786, Val accuracy: 0.915146\n",
            "#32:Average loss: 0.152508, Train accuracy: 0.947630, Val accuracy: 0.915081\n",
            "#33:Average loss: 0.146164, Train accuracy: 0.950313, Val accuracy: 0.913321\n",
            "#34:Average loss: 0.147832, Train accuracy: 0.948933, Val accuracy: 0.915928\n",
            "#35:Average loss: 0.142821, Train accuracy: 0.950007, Val accuracy: 0.915211\n",
            "#36:Average loss: 0.127503, Train accuracy: 0.956275, Val accuracy: 0.918470\n",
            "#37:Average loss: 0.122235, Train accuracy: 0.958039, Val accuracy: 0.917036\n",
            "#38:Average loss: 0.118849, Train accuracy: 0.959150, Val accuracy: 0.913256\n",
            "#39:Average loss: 0.115138, Train accuracy: 0.960856, Val accuracy: 0.916189\n",
            "#40:Average loss: 0.116250, Train accuracy: 0.960281, Val accuracy: 0.916971\n",
            "#41:Average loss: 0.112533, Train accuracy: 0.961144, Val accuracy: 0.915407\n",
            "#42:Average loss: 0.110903, Train accuracy: 0.961221, Val accuracy: 0.915211\n",
            "#43:Average loss: 0.110127, Train accuracy: 0.962313, Val accuracy: 0.909215\n",
            "#44:Average loss: 0.107889, Train accuracy: 0.962927, Val accuracy: 0.913386\n",
            "#45:Average loss: 0.092066, Train accuracy: 0.968102, Val accuracy: 0.914364\n",
            "#46:Average loss: 0.085903, Train accuracy: 0.970824, Val accuracy: 0.913517\n",
            "#47:Average loss: 0.087212, Train accuracy: 0.969962, Val accuracy: 0.916254\n",
            "#48:Average loss: 0.083901, Train accuracy: 0.971227, Val accuracy: 0.916710\n",
            "#49:Average loss: 0.092372, Train accuracy: 0.968332, Val accuracy: 0.918144\n",
            "Training complete in 7m 14s\n"
          ]
        }
      ]
    },
    {
      "cell_type": "code",
      "metadata": {
        "colab": {
          "base_uri": "https://localhost:8080/"
        },
        "id": "c3yecUORB4gM",
        "outputId": "dc2d6110-c64a-4178-f8f5-68252211d3fb"
      },
      "source": [
        "test_acc, preds, trues = compute_accuracy(model, test_loader)\n",
        "test_acc"
      ],
      "execution_count": 43,
      "outputs": [
        {
          "output_type": "execute_result",
          "data": {
            "text/plain": [
              "0.9219989136338946"
            ]
          },
          "metadata": {},
          "execution_count": 43
        }
      ]
    },
    {
      "cell_type": "code",
      "metadata": {
        "colab": {
          "base_uri": "https://localhost:8080/",
          "height": 368
        },
        "id": "6hfL8vsBEHQl",
        "outputId": "a7857f27-ffdc-4517-abda-16c96c677e62"
      },
      "source": [
        "import matplotlib.pyplot as plt\n",
        "\n",
        "fig, ax = plt.subplots(1, 2, figsize=(16, 5))\n",
        "ax[0].plot(loss_history, label='Train')\n",
        "ax[0].set_title('Loss')\n",
        "ax[0].set_xlabel('Epoch')\n",
        "\n",
        "ax[1].plot(train_history, label='Train')\n",
        "ax[1].plot(val_history, label='Val')\n",
        "ax[1].set_title('Accuracy')\n",
        "ax[1].set_xlabel('Epoch')\n",
        "ax[1].legend()"
      ],
      "execution_count": 45,
      "outputs": [
        {
          "output_type": "execute_result",
          "data": {
            "text/plain": [
              "<matplotlib.legend.Legend at 0x7f18b8bc5bd0>"
            ]
          },
          "metadata": {},
          "execution_count": 45
        },
        {
          "output_type": "display_data",
          "data": {
            "image/png": "[encoded data removed]",
            "text/plain": [
              "<Figure size 1152x360 with 2 Axes>"
            ]
          },
          "metadata": {
            "needs_background": "light"
          }
        }
      ]
    },
    {
      "cell_type": "markdown",
      "metadata": {
        "id": "aQ-wjjRGvnbQ"
      },
      "source": [
        "## Analysis of mistakes\n",
        "Let's create a new dataloader for ALL dataset and predict a gender. Then, we will use sklearn to calculate and plot confuison matrix\n"
      ]
    },
    {
      "cell_type": "code",
      "metadata": {
        "colab": {
          "base_uri": "https://localhost:8080/"
        },
        "id": "EEgQRF0Sv16a",
        "outputId": "42d342a7-a8e6-496a-f99c-b419344994bd"
      },
      "source": [
        "total_loader = DataLoader(dataset, batch_size=1024,collate_fn=my_collate)\n",
        "total_acc, all_preds, all_trues = compute_accuracy(model, total_loader)\n",
        "total_acc"
      ],
      "execution_count": 70,
      "outputs": [
        {
          "output_type": "execute_result",
          "data": {
            "text/plain": [
              "0.9600865530006778"
            ]
          },
          "metadata": {},
          "execution_count": 70
        }
      ]
    },
    {
      "cell_type": "code",
      "metadata": {
        "id": "PPhPs83jw2QB"
      },
      "source": [
        "all_preds = torch.cat(all_preds).cpu()\n",
        "all_trues = torch.cat(all_trues).cpu()"
      ],
      "execution_count": 73,
      "outputs": []
    },
    {
      "cell_type": "code",
      "metadata": {
        "id": "DG9YVPymxSkk"
      },
      "source": [
        "from sklearn.metrics import confusion_matrix"
      ],
      "execution_count": 74,
      "outputs": []
    },
    {
      "cell_type": "code",
      "metadata": {
        "id": "oTf7zsGKxf7U"
      },
      "source": [
        "conf_matrix = confusion_matrix(all_trues, all_preds)"
      ],
      "execution_count": 78,
      "outputs": []
    },
    {
      "cell_type": "code",
      "metadata": {
        "colab": {
          "base_uri": "https://localhost:8080/",
          "height": 384
        },
        "id": "mkyBbbe8zX4Z",
        "outputId": "2d28d84f-8f27-4582-bb90-1fb763769cfb"
      },
      "source": [
        "import itertools\n",
        "\n",
        "def plot_confusion_matrix(cm, classes, normalize=False, title='Confusion matrix', cmap=plt.cm.Blues):\n",
        "    if normalize:\n",
        "        cm = cm.astype('float') / cm.sum(axis=1)[:, np.newaxis]\n",
        "        print(\"Normalized confusion matrix\")\n",
        "    else:\n",
        "        print('Confusion matrix, without normalization')\n",
        "\n",
        "    print(cm)\n",
        "    plt.imshow(cm, interpolation='nearest', cmap=cmap)\n",
        "    plt.title(title)\n",
        "    plt.colorbar()\n",
        "    tick_marks = np.arange(len(classes))\n",
        "    plt.xticks(tick_marks, classes, rotation=45)\n",
        "    plt.yticks(tick_marks, classes)\n",
        "\n",
        "    fmt = '.2f' if normalize else 'd'\n",
        "    thresh = cm.max() / 2.\n",
        "    for i, j in itertools.product(range(cm.shape[0]), range(cm.shape[1])):\n",
        "        plt.text(j, i, format(cm[i, j], fmt), horizontalalignment=\"center\", color=\"white\" if cm[i, j] > thresh else \"black\")\n",
        "\n",
        "    plt.tight_layout()\n",
        "    plt.ylabel('True label')\n",
        "    plt.xlabel('Predicted label')\n",
        "\n",
        "plot_confusion_matrix(conf_matrix, list(dataset.genders), normalize=True)"
      ],
      "execution_count": 82,
      "outputs": [
        {
          "output_type": "stream",
          "name": "stdout",
          "text": [
            "Normalized confusion matrix\n",
            "[[0.92687292 0.05433393 0.01879315]\n",
            " [0.01959751 0.96210445 0.01829804]\n",
            " [0.00822111 0.01751587 0.97426301]]\n"
          ]
        },
        {
          "output_type": "display_data",
          "data": {
            "image/png": "[encoded data removed]",
            "text/plain": [
              "<Figure size 432x288 with 2 Axes>"
            ]
          },
          "metadata": {
            "needs_background": "light"
          }
        }
      ]
    },
    {
      "cell_type": "markdown",
      "metadata": {
        "id": "XfXh3Sc_0zf-"
      },
      "source": [
        "# Conclusions\n",
        "* Least accurate class – neutral\n",
        "* Might be because it's less represented in the dataset\n",
        "* Most often confusion is predicting masculine instead of neutral. Least common – feminine predicted as neutral.\n",
        "* In general for such a simple model LSTM achieves amazing performance – 92 % correctly assigned grammatical gender. Model learned the hidden pattern purely from letter sequences. \n",
        "* LSTM outperforms the naive ending-random model – super!"
      ]
    },
    {
      "cell_type": "code",
      "metadata": {
        "id": "viZwATNQ2ELR"
      },
      "source": [
        ""
      ],
      "execution_count": null,
      "outputs": []
    }
  ]
}